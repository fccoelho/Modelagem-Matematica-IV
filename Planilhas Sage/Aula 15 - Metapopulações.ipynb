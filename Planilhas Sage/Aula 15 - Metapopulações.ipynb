{
 "cells": [
  {
   "cell_type": "markdown",
   "metadata": {},
   "source": [
    "# Modelos Metapopulacionais\n",
    "\n",
    "O conceito de metapopulações pode ser visto como uma maneira relativamente simples de tratar a heterogeneidade em populações sem abandonar o paradigma de populações homogêneas modeladas com Equações diferenciais ordinárias.\n",
    "\n",
    "![metapops](https://upload.wikimedia.org/wikipedia/commons/thumb/9/94/Metapopulation_%281%29.svg/2560px-Metapopulation_%281%29.svg.png)\n",
    "\n",
    "#### Exercício 1:\n",
    "\n",
    "Desenvolva um modelo metapopulacional com dois patches (duas sub-populações) A e B nos quais se propaga uma doença de transmissão direta modelada como SIR. Considere que existe um fluxo migratório entre as cidades.\n",
    "\n",
    "1. Escreva as equações das duas populações representando as migrações $A \\rightarrow B$ como  $k_1$, e $B \\rightarrow A$ como $k_2$.\n",
    "1. Utilizando uma parametrização que não permita equilíbrio endêmico, encontre os equilíbrios $S_A^* + S_B^*$ e $I_A^* + I_B^*$ .\n",
    "1. Calcule a Matriz Jacobiana do sistema e determine  a estabilidade dos equilíbrios.\n",
    "1. Crie uma função interativa que nos permita alterar os valores de $k_1$ e $k_2$. Realize simulações com $k_1 = k_2$, $k_1 < k_2$ e $k_1 > k_2$, com $\\beta_A \\neq \\beta_B$"
   ]
  },
  {
   "cell_type": "code",
   "execution_count": 1,
   "metadata": {
    "ExecuteTime": {
     "end_time": "2021-10-27T12:06:36.606257Z",
     "start_time": "2021-10-27T12:06:36.597247Z"
    }
   },
   "outputs": [],
   "source": [
    "%display typeset"
   ]
  },
  {
   "cell_type": "markdown",
   "metadata": {},
   "source": [
    "#### Resposta ao item 1:\n",
    "\n",
    "$$ \\dot{S}_A = -\\beta_A S_A I_A + k_2 S_B - k_1 S_A$$\n",
    "$$\\dot{I}_A = \\beta_A S_A I_A + k_2 I_B - k_1 I_A -\\gamma I_A$$\n",
    "$$\\dot{S}_B = -\\beta_B S_B I_B + k_1 S_A - k_2 S_B $$\n",
    "$$\\dot{I}_B = \\beta_B S_B I_B + k_1 I_A - k_2 I_B -\\gamma I_B$$"
   ]
  },
  {
   "cell_type": "markdown",
   "metadata": {},
   "source": [
    "2) Vamos agora encontrar os equilíbrios do sistema usando o solver do sage:"
   ]
  },
  {
   "cell_type": "code",
   "execution_count": 2,
   "metadata": {
    "ExecuteTime": {
     "end_time": "2021-10-27T12:46:57.626884Z",
     "start_time": "2021-10-27T12:46:57.583435Z"
    }
   },
   "outputs": [
    {
     "data": {
      "text/html": [
       "<html><script type=\"math/tex; mode=display\">\\newcommand{\\Bold}[1]{\\mathbf{#1}}\\left[\\left[S_{A} = r_{1}, I_{A} = 0, S_{B} = \\frac{k_{1} r_{1}}{k_{2}}, I_{B} = 0, R_{A} = r_{2}, R_{B} = r_{3}\\right]\\right]</script></html>"
      ],
      "text/latex": [
       "$$\\newcommand{\\Bold}[1]{\\mathbf{#1}}\\left[\\left[S_{A} = r_{1}, I_{A} = 0, S_{B} = \\frac{k_{1} r_{1}}{k_{2}}, I_{B} = 0, R_{A} = r_{2}, R_{B} = r_{3}\\right]\\right]$$"
      ],
      "text/plain": [
       "[[S_A == r1, I_A == 0, S_B == k_1*r1/k_2, I_B == 0, R_A == r2, R_B == r3]]"
      ]
     },
     "execution_count": 2,
     "metadata": {},
     "output_type": "execute_result"
    }
   ],
   "source": [
    "var('S_A I_A S_B I_B beta_A beta_B R_A R_B gamma k_1 k_2')\n",
    "#beta_A = 1.2\n",
    "#beta_B = 1.2\n",
    "#gamma = 0.5\n",
    "#k_1 = 0.5\n",
    "#k_2 = 0.5\n",
    "solve([-beta_A*S_A*I_A + k_2*S_B - k_1*S_A, \n",
    "       beta_A*S_A*I_A+ k_2*I_B - k_1*I_A - gamma*I_A,\n",
    "       -beta_B*S_B*I_B - k_2*S_B + k_1*S_A,\n",
    "       beta_B*S_B*I_B- k_2*I_B + k_1*I_A - gamma*I_B,\n",
    "       gamma*I_A,\n",
    "       gamma*I_B],[S_A, I_A, S_B, I_B, R_A, R_B])"
   ]
  },
  {
   "cell_type": "markdown",
   "metadata": {},
   "source": [
    "3) Calculamos a Matriz jacobiana para podermos realizar a análise de estabilidade do equilíbrio encontrado acima"
   ]
  },
  {
   "cell_type": "code",
   "execution_count": 3,
   "metadata": {
    "ExecuteTime": {
     "end_time": "2021-10-27T12:50:25.456043Z",
     "start_time": "2021-10-27T12:50:25.444750Z"
    }
   },
   "outputs": [
    {
     "data": {
      "text/html": [
       "<html><script type=\"math/tex; mode=display\">\\newcommand{\\Bold}[1]{\\mathbf{#1}}\\left(\\begin{array}{rrrr}\n",
       "-I_{A} \\beta_{A} - k_{1} & -S_{A} \\beta_{A} & k_{2} & 0 \\\\\n",
       "I_{A} \\beta_{A} & S_{A} \\beta_{A} - \\gamma - k_{1} & 0 & k_{2} \\\\\n",
       "k_{1} & 0 & -I_{B} \\beta_{B} - k_{2} & -S_{B} \\beta_{B} \\\\\n",
       "0 & k_{1} & I_{B} \\beta_{B} & S_{B} \\beta_{B} - \\gamma - k_{2}\n",
       "\\end{array}\\right)</script></html>"
      ],
      "text/latex": [
       "$$\\newcommand{\\Bold}[1]{\\mathbf{#1}}\\left(\\begin{array}{rrrr}\n",
       "-I_{A} \\beta_{A} - k_{1} & -S_{A} \\beta_{A} & k_{2} & 0 \\\\\n",
       "I_{A} \\beta_{A} & S_{A} \\beta_{A} - \\gamma - k_{1} & 0 & k_{2} \\\\\n",
       "k_{1} & 0 & -I_{B} \\beta_{B} - k_{2} & -S_{B} \\beta_{B} \\\\\n",
       "0 & k_{1} & I_{B} \\beta_{B} & S_{B} \\beta_{B} - \\gamma - k_{2}\n",
       "\\end{array}\\right)$$"
      ],
      "text/plain": [
       "[       -I_A*beta_A - k_1              -S_A*beta_A                      k_2                        0]\n",
       "[              I_A*beta_A S_A*beta_A - gamma - k_1                        0                      k_2]\n",
       "[                     k_1                        0        -I_B*beta_B - k_2              -S_B*beta_B]\n",
       "[                       0                      k_1               I_B*beta_B S_B*beta_B - gamma - k_2]"
      ]
     },
     "execution_count": 3,
     "metadata": {},
     "output_type": "execute_result"
    }
   ],
   "source": [
    "J = jacobian([-beta_A*S_A*I_A + k_2*S_B - k_1*S_A, \n",
    "       beta_A*S_A*I_A+ k_2*I_B - k_1*I_A - gamma*I_A,\n",
    "       -beta_B*S_B*I_B - k_2*S_B + k_1*S_A,\n",
    "       beta_B*S_B*I_B- k_2*I_B + k_1*I_A - gamma*I_B],[S_A, I_A, S_B, I_B])\n",
    "J"
   ]
  },
  {
   "cell_type": "markdown",
   "metadata": {
    "ExecuteTime": {
     "end_time": "2021-10-27T12:08:00.845976Z",
     "start_time": "2021-10-27T12:08:00.841739Z"
    }
   },
   "source": [
    "Agora Substituímos o valor do equilíbrio na matriz jacobiana:"
   ]
  },
  {
   "cell_type": "code",
   "execution_count": 4,
   "metadata": {
    "ExecuteTime": {
     "end_time": "2021-10-27T12:51:04.898288Z",
     "start_time": "2021-10-27T12:51:04.888269Z"
    }
   },
   "outputs": [
    {
     "data": {
      "text/html": [
       "<html><script type=\"math/tex; mode=display\">\\newcommand{\\Bold}[1]{\\mathbf{#1}}\\left(\\begin{array}{rrrr}\n",
       "-k_{1} & -\\beta_{A} & k_{2} & 0 \\\\\n",
       "0 & \\beta_{A} - \\gamma - k_{1} & 0 & k_{2} \\\\\n",
       "k_{1} & 0 & -k_{2} & -\\frac{\\beta_{B} k_{1}}{k_{2}} \\\\\n",
       "0 & k_{1} & 0 & -\\gamma + \\frac{\\beta_{B} k_{1}}{k_{2}} - k_{2}\n",
       "\\end{array}\\right)</script></html>"
      ],
      "text/latex": [
       "$$\\newcommand{\\Bold}[1]{\\mathbf{#1}}\\left(\\begin{array}{rrrr}\n",
       "-k_{1} & -\\beta_{A} & k_{2} & 0 \\\\\n",
       "0 & \\beta_{A} - \\gamma - k_{1} & 0 & k_{2} \\\\\n",
       "k_{1} & 0 & -k_{2} & -\\frac{\\beta_{B} k_{1}}{k_{2}} \\\\\n",
       "0 & k_{1} & 0 & -\\gamma + \\frac{\\beta_{B} k_{1}}{k_{2}} - k_{2}\n",
       "\\end{array}\\right)$$"
      ],
      "text/plain": [
       "[                         -k_1                       -beta_A                           k_2                             0]\n",
       "[                            0          beta_A - gamma - k_1                             0                           k_2]\n",
       "[                          k_1                             0                          -k_2               -beta_B*k_1/k_2]\n",
       "[                            0                           k_1                             0 -gamma + beta_B*k_1/k_2 - k_2]"
      ]
     },
     "execution_count": 4,
     "metadata": {},
     "output_type": "execute_result"
    }
   ],
   "source": [
    "J_eq = J(S_A=1,I_A=0,S_B=k_1/k_2,I_B=0)\n",
    "J_eq"
   ]
  },
  {
   "cell_type": "markdown",
   "metadata": {
    "ExecuteTime": {
     "end_time": "2021-10-27T12:09:00.121973Z",
     "start_time": "2021-10-27T12:09:00.117775Z"
    }
   },
   "source": [
    "e também os valores dos parâmetros"
   ]
  },
  {
   "cell_type": "code",
   "execution_count": 5,
   "metadata": {
    "ExecuteTime": {
     "end_time": "2021-10-27T12:53:36.962542Z",
     "start_time": "2021-10-27T12:53:36.947112Z"
    }
   },
   "outputs": [
    {
     "data": {
      "text/html": [
       "<html><script type=\"math/tex; mode=display\">\\newcommand{\\Bold}[1]{\\mathbf{#1}}\\left[\\frac{3}{5}, -\\frac{2}{5}, -1, 0\\right]</script></html>"
      ],
      "text/latex": [
       "$$\\newcommand{\\Bold}[1]{\\mathbf{#1}}\\left[\\frac{3}{5}, -\\frac{2}{5}, -1, 0\\right]$$"
      ],
      "text/plain": [
       "[3/5, -2/5, -1, 0]"
      ]
     },
     "execution_count": 5,
     "metadata": {},
     "output_type": "execute_result"
    }
   ],
   "source": [
    "J_eq(gamma=1.0,k_1=.5,k_2=.5,beta_A=1.6,beta_B=1.6).eigenvalues()"
   ]
  },
  {
   "cell_type": "markdown",
   "metadata": {},
   "source": [
    "Como o maior autovalor é real e positivo o Equilíbrio é instável"
   ]
  },
  {
   "cell_type": "markdown",
   "metadata": {},
   "source": [
    "4) Agora vamos criar uma simulação interativa para estudar o efeito da existência de patches na dinâmica do sistema."
   ]
  },
  {
   "cell_type": "code",
   "execution_count": 6,
   "metadata": {
    "ExecuteTime": {
     "end_time": "2021-10-27T12:09:45.258939Z",
     "start_time": "2021-10-27T12:09:45.242162Z"
    }
   },
   "outputs": [],
   "source": [
    "def model_2_pop(t, y, params):\n",
    "    beta_A, beta_B, gamma, k_1, k_2, mu = params\n",
    "    S_A, I_A, S_B, I_B, R_A, R_B = y\n",
    "    return [-beta_A*S_A*I_A + k_2*S_B - k_1*S_A, \n",
    "       beta_A*S_A*I_A+ k_2*I_B - k_1*I_A - gamma*I_A,\n",
    "       -beta_B*S_B*I_B - k_2*S_B + k_1*S_A,\n",
    "       beta_B*S_B*I_B - k_2*I_B + k_1*I_A - gamma*I_B,\n",
    "       gamma*I_A,\n",
    "       gamma*I_B]"
   ]
  },
  {
   "cell_type": "markdown",
   "metadata": {},
   "source": [
    "Agora vamos criar uma versão do modelo anterior, com nascimentos e mortes, ou seja demografia:\n",
    "\n",
    "$$ \\dot{S}_A = -\\beta_A S_A I_A + k_2 S_B - k_1 S_A -\\mu S_A +\\mu(S_A+I_A+R_A)$$\n",
    "$$\\dot{I}_A = \\beta_A S_A I_A + k_2 I_B - k_1 I_A -\\gamma I_A -\\mu I_A$$\n",
    "$$\\dot{R}_A = \\gamma I_A-\\mu R_A$$\n",
    "$$\\dot{S}_B = -\\beta_B S_B I_B + k_1 S_A - k_2 S_B -\\mu S_B +\\mu(S_B+I_B+R_B)$$\n",
    "$$\\dot{I}_B = \\beta_B S_B I_B + k_1 I_A - k_2 I_B -\\gamma I_B -\\mu I_B$$\n",
    "$$\\dot{R}_B= \\gamma I_B-\\mu R_B$$"
   ]
  },
  {
   "cell_type": "code",
   "execution_count": 7,
   "metadata": {
    "ExecuteTime": {
     "end_time": "2021-10-27T13:02:05.137728Z",
     "start_time": "2021-10-27T13:02:05.124770Z"
    }
   },
   "outputs": [],
   "source": [
    "def model_2_pop_demog(t, y, params):\n",
    "    beta_A, beta_B, gamma, k_1, k_2, mu = params\n",
    "    S_A, I_A, S_B, I_B, R_A, R_B = y\n",
    "    return [-beta_A*S_A*I_A + k_2*S_B - k_1*S_A -mu*S_A +mu*(S_A+I_A+R_A), \n",
    "       beta_A*S_A*I_A+ k_2*I_B - k_1*I_A - gamma*I_A - mu*I_A,\n",
    "       -beta_B*S_B*I_B - k_2*S_B + k_1*S_A - mu*S_B+mu*(S_B+I_B+R_B),\n",
    "       beta_B*S_B*I_B - k_2*I_B + k_1*I_A - gamma*I_B - mu*I_B,\n",
    "       gamma*I_A-mu*R_A,\n",
    "       gamma*I_B-mu*R_B]"
   ]
  },
  {
   "cell_type": "markdown",
   "metadata": {},
   "source": [
    "Agora passamos à instanciação do nosso solver e à implementação de uma função de plotagem."
   ]
  },
  {
   "cell_type": "code",
   "execution_count": 8,
   "metadata": {
    "ExecuteTime": {
     "end_time": "2021-10-27T12:10:00.599063Z",
     "start_time": "2021-10-27T12:10:00.587040Z"
    }
   },
   "outputs": [],
   "source": [
    "T=ode_solver()\n",
    "T.function = model_2_pop\n",
    "T.algorithm = \"rk8pd\"#\"rk4imp\"\n",
    "from itertools import cycle\n",
    "labels = [r\"$S_A$\", \"$I_A$\", \"$S_B$\", \"$I_B$\",\"$R_A$\", \"$R_B$\"]\n",
    "\n",
    "def plot_sol(sol):\n",
    "    plots=None\n",
    "    c = cycle(['red','blue','green', 'black', 'yellow', 'orange', 'magenta', 'gray', 'pink', 'brown'])\n",
    "    for i,co in zip(range(len(sol[0][1])),c):\n",
    "#         co = c.next()\n",
    "        if plots is None:\n",
    "            plots = list_plot([(j[0],j[1][i]) for j in sol],color=co, plotjoined=True,      legend_label='%s'%labels[i], alpha=.8, gridlines=true)\n",
    "        else:\n",
    "            plots += list_plot([(j[0],j[1][i]) for j in sol],color=co, plotjoined=True,           legend_label='%s'%labels[i], alpha=.8, gridlines=true)\n",
    "    show(plots)"
   ]
  },
  {
   "cell_type": "code",
   "execution_count": 9,
   "metadata": {
    "ExecuteTime": {
     "end_time": "2021-10-27T13:09:10.707213Z",
     "start_time": "2021-10-27T13:09:09.635603Z"
    }
   },
   "outputs": [
    {
     "data": {
      "application/vnd.jupyter.widget-view+json": {
       "model_id": "d882e43d451943aa991b00e3c10810b8",
       "version_major": 2,
       "version_minor": 0
      },
      "text/plain": [
       "Interactive function <function simula at 0x7fc31c4a7910> with 7 widgets\n",
       "  beta_A: FloatSlider(value=4.6, min=0…"
      ]
     },
     "metadata": {},
     "output_type": "display_data"
    }
   ],
   "source": [
    "@interact()\n",
    "def simula(beta_A=(4.6,(.2,5,.1)), beta_B=(3.6,(.2,5,.1)), gamma=(1.2, 2,.1), k_1=(0.5,(0,1,.1)), k_2=(0.5,(0,1,.1)), mu=(.04,(0, 1,.1)), model=selector(['no demog', 'demog'], buttons=True)):\n",
    "    if model == \"demog\":\n",
    "        T.function = model_2_pop_demog\n",
    "    else:\n",
    "        T.function = model_2_pop\n",
    "    inits = (.9,0.1, 1, 0, 0, 0)\n",
    "    t_span = [0,30]\n",
    "    T.ode_solve(t_span,inits,num_points=300, params=(beta_A, beta_B, gamma, k_1, k_2, mu))\n",
    "    show(inits[0]*k_1/k_2)\n",
    "    plot_sol(T.solution)"
   ]
  },
  {
   "cell_type": "markdown",
   "metadata": {},
   "source": [
    "#### Exercício 2:\n",
    "\n",
    "Modelos evolutivos em 2 patches.  Adapte o modelo de seleção natural sem mutação, para duas subpopulações, mantendo a generalidade para multiplos tipos.\n",
    "\n",
    "1. Escreva as equações em forma matricial\n",
    "2. Encontre os equilíbrios do sistema\n",
    "3. Escreva uma função interativa para estudar os parâmetros"
   ]
  },
  {
   "cell_type": "code",
   "execution_count": 28,
   "metadata": {
    "ExecuteTime": {
     "end_time": "2021-10-27T13:16:27.024486Z",
     "start_time": "2021-10-27T13:16:26.971079Z"
    }
   },
   "outputs": [
    {
     "data": {
      "text/html": [
       "a) Vamos escrever o modelo evolutivo, começando com 4 tipos e 5 localidades, denotadas pelos vetores <script type=\"math/tex\">X</script> e <script type=\"math/tex\">L</script>, respectivamente:"
      ],
      "text/plain": [
       "a) Vamos escrever o modelo evolutivo, começando com 4 tipos e 5 localidades, denotadas pelos vetores <script type=\"math/tex\">X</script> e <script type=\"math/tex\">L</script>, respectivamente:"
      ]
     },
     "metadata": {},
     "output_type": "display_data"
    },
    {
     "data": {
      "text/html": [
       "<html><script type=\"math/tex; mode=display\">\\newcommand{\\Bold}[1]{\\mathbf{#1}}\\verb|X=| \\left(\\begin{array}{rrrr}\n",
       "x_{1} & x_{2} & x_{3} & x_{4}\n",
       "\\end{array}\\right) \\verb|,|\\verb| |\\verb|L=| \\left(\\begin{array}{rrrrr}\n",
       "A & B & C & D & E\n",
       "\\end{array}\\right)</script></html>"
      ],
      "text/latex": [
       "$$\\newcommand{\\Bold}[1]{\\mathbf{#1}}\\verb|X=| \\left(\\begin{array}{rrrr}\n",
       "x_{1} & x_{2} & x_{3} & x_{4}\n",
       "\\end{array}\\right) \\verb|,|\\verb| |\\verb|L=| \\left(\\begin{array}{rrrrr}\n",
       "A & B & C & D & E\n",
       "\\end{array}\\right)$$"
      ],
      "text/plain": [
       "'X=' [x_1 x_2 x_3 x_4] ', L=' [A B C D E]"
      ]
     },
     "metadata": {},
     "output_type": "display_data"
    },
    {
     "data": {
      "text/html": [
       "Seja <script type=\"math/tex\">D</script> a matriz com as densidades em cada uma das localidades:"
      ],
      "text/plain": [
       "Seja <script type=\"math/tex\">D</script> a matriz com as densidades em cada uma das localidades:"
      ]
     },
     "metadata": {},
     "output_type": "display_data"
    },
    {
     "data": {
      "text/html": [
       "<html><script type=\"math/tex; mode=display\">\\newcommand{\\Bold}[1]{\\mathbf{#1}}\\verb|D=| \\left(\\begin{array}{rrrrr}\n",
       "x_{\\mathit{1A}} & x_{\\mathit{1B}} & x_{\\mathit{1C}} & x_{\\mathit{1D}} & x_{\\mathit{1E}} \\\\\n",
       "x_{\\mathit{2A}} & x_{\\mathit{2B}} & x_{\\mathit{2C}} & x_{\\mathit{2D}} & x_{\\mathit{2E}} \\\\\n",
       "x_{\\mathit{3A}} & x_{\\mathit{3B}} & x_{\\mathit{3C}} & x_{\\mathit{3D}} & x_{\\mathit{3E}} \\\\\n",
       "x_{\\mathit{4A}} & x_{\\mathit{4B}} & x_{\\mathit{4C}} & x_{\\mathit{4D}} & x_{\\mathit{4E}}\n",
       "\\end{array}\\right)</script></html>"
      ],
      "text/latex": [
       "$$\\newcommand{\\Bold}[1]{\\mathbf{#1}}\\verb|D=| \\left(\\begin{array}{rrrrr}\n",
       "x_{\\mathit{1A}} & x_{\\mathit{1B}} & x_{\\mathit{1C}} & x_{\\mathit{1D}} & x_{\\mathit{1E}} \\\\\n",
       "x_{\\mathit{2A}} & x_{\\mathit{2B}} & x_{\\mathit{2C}} & x_{\\mathit{2D}} & x_{\\mathit{2E}} \\\\\n",
       "x_{\\mathit{3A}} & x_{\\mathit{3B}} & x_{\\mathit{3C}} & x_{\\mathit{3D}} & x_{\\mathit{3E}} \\\\\n",
       "x_{\\mathit{4A}} & x_{\\mathit{4B}} & x_{\\mathit{4C}} & x_{\\mathit{4D}} & x_{\\mathit{4E}}\n",
       "\\end{array}\\right)$$"
      ],
      "text/plain": [
       "'D=' [x_1A x_1B x_1C x_1D x_1E]\n",
       "[x_2A x_2B x_2C x_2D x_2E]\n",
       "[x_3A x_3B x_3C x_3D x_3E]\n",
       "[x_4A x_4B x_4C x_4D x_4E]"
      ]
     },
     "metadata": {},
     "output_type": "display_data"
    },
    {
     "data": {
      "text/html": [
       "Seja <script type=\"math/tex\">M</script> a matriz com as taxas de migração <script type=\"math/tex\">k_{ij}</script> entre cada uma das localidades:"
      ],
      "text/plain": [
       "Seja <script type=\"math/tex\">M</script> a matriz com as taxas de migração <script type=\"math/tex\">k_{ij}</script> entre cada uma das localidades:"
      ]
     },
     "metadata": {},
     "output_type": "display_data"
    },
    {
     "data": {
      "text/html": [
       "<html><script type=\"math/tex; mode=display\">\\newcommand{\\Bold}[1]{\\mathbf{#1}}\\verb|M=| \\left(\\begin{array}{rrrrr}\n",
       "k_{\\mathit{AA}} + k_{\\mathit{AB}} + k_{\\mathit{AC}} + k_{\\mathit{AD}} + k_{\\mathit{AE}} & k_{\\mathit{AB}} & k_{\\mathit{AC}} & k_{\\mathit{AD}} & k_{\\mathit{AE}} \\\\\n",
       "k_{\\mathit{BA}} & k_{\\mathit{BA}} + k_{\\mathit{BB}} + k_{\\mathit{BC}} + k_{\\mathit{BD}} + k_{\\mathit{BE}} & k_{\\mathit{BC}} & k_{\\mathit{BD}} & k_{\\mathit{BE}} \\\\\n",
       "k_{\\mathit{CA}} & k_{\\mathit{CB}} & k_{\\mathit{CA}} + k_{\\mathit{CB}} + k_{\\mathit{CC}} + k_{\\mathit{CD}} + k_{\\mathit{CE}} & k_{\\mathit{CD}} & k_{\\mathit{CE}} \\\\\n",
       "k_{\\mathit{DA}} & k_{\\mathit{DB}} & k_{\\mathit{DC}} & k_{\\mathit{DA}} + k_{\\mathit{DB}} + k_{\\mathit{DC}} + k_{\\mathit{DD}} + k_{\\mathit{DE}} & k_{\\mathit{DE}} \\\\\n",
       "k_{\\mathit{EA}} & k_{\\mathit{EB}} & k_{\\mathit{EC}} & k_{\\mathit{ED}} & k_{\\mathit{EA}} + k_{\\mathit{EB}} + k_{\\mathit{EC}} + k_{\\mathit{ED}} + k_{\\mathit{EE}}\n",
       "\\end{array}\\right)</script></html>"
      ],
      "text/latex": [
       "$$\\newcommand{\\Bold}[1]{\\mathbf{#1}}\\verb|M=| \\left(\\begin{array}{rrrrr}\n",
       "k_{\\mathit{AA}} + k_{\\mathit{AB}} + k_{\\mathit{AC}} + k_{\\mathit{AD}} + k_{\\mathit{AE}} & k_{\\mathit{AB}} & k_{\\mathit{AC}} & k_{\\mathit{AD}} & k_{\\mathit{AE}} \\\\\n",
       "k_{\\mathit{BA}} & k_{\\mathit{BA}} + k_{\\mathit{BB}} + k_{\\mathit{BC}} + k_{\\mathit{BD}} + k_{\\mathit{BE}} & k_{\\mathit{BC}} & k_{\\mathit{BD}} & k_{\\mathit{BE}} \\\\\n",
       "k_{\\mathit{CA}} & k_{\\mathit{CB}} & k_{\\mathit{CA}} + k_{\\mathit{CB}} + k_{\\mathit{CC}} + k_{\\mathit{CD}} + k_{\\mathit{CE}} & k_{\\mathit{CD}} & k_{\\mathit{CE}} \\\\\n",
       "k_{\\mathit{DA}} & k_{\\mathit{DB}} & k_{\\mathit{DC}} & k_{\\mathit{DA}} + k_{\\mathit{DB}} + k_{\\mathit{DC}} + k_{\\mathit{DD}} + k_{\\mathit{DE}} & k_{\\mathit{DE}} \\\\\n",
       "k_{\\mathit{EA}} & k_{\\mathit{EB}} & k_{\\mathit{EC}} & k_{\\mathit{ED}} & k_{\\mathit{EA}} + k_{\\mathit{EB}} + k_{\\mathit{EC}} + k_{\\mathit{ED}} + k_{\\mathit{EE}}\n",
       "\\end{array}\\right)$$"
      ],
      "text/plain": [
       "'M=' [k_AA + k_AB + k_AC + k_AD + k_AE                             k_AB                             k_AC                             k_AD                             k_AE]\n",
       "[                            k_BA k_BA + k_BB + k_BC + k_BD + k_BE                             k_BC                             k_BD                             k_BE]\n",
       "[                            k_CA                             k_CB k_CA + k_CB + k_CC + k_CD + k_CE                             k_CD                             k_CE]\n",
       "[                            k_DA                             k_DB                             k_DC k_DA + k_DB + k_DC + k_DD + k_DE                             k_DE]\n",
       "[                            k_EA                             k_EB                             k_EC                             k_ED k_EA + k_EB + k_EC + k_ED + k_EE]"
      ]
     },
     "metadata": {},
     "output_type": "display_data"
    },
    {
     "data": {
      "text/html": [
       "Logo, <script type=\"math/tex\">F=D \\times M</script> é uma matriz em que cada elemento <script type=\"math/tex\">f_{ij}</script> representa a imigração do tipo <script type=\"math/tex\">i</script> em cada patch <script type=\"math/tex\">j</script> vindo de todos os outros patches:"
      ],
      "text/plain": [
       "Logo, <script type=\"math/tex\">F=D \\times M</script> é uma matriz em que cada elemento <script type=\"math/tex\">f_{ij}</script> representa a imigração do tipo <script type=\"math/tex\">i</script> em cada patch <script type=\"math/tex\">j</script> vindo de todos os outros patches:"
      ]
     },
     "metadata": {},
     "output_type": "display_data"
    },
    {
     "data": {
      "text/html": [
       "<html><script type=\"math/tex; mode=display\">\\newcommand{\\Bold}[1]{\\mathbf{#1}}\\verb|F=| \\left(\\begin{array}{rrrrr}\n",
       "{\\left(k_{\\mathit{AA}} + k_{\\mathit{AB}} + k_{\\mathit{AC}} + k_{\\mathit{AD}} + k_{\\mathit{AE}}\\right)} x_{\\mathit{1A}} + k_{\\mathit{BA}} x_{\\mathit{1B}} + k_{\\mathit{CA}} x_{\\mathit{1C}} + k_{\\mathit{DA}} x_{\\mathit{1D}} + k_{\\mathit{EA}} x_{\\mathit{1E}} & k_{\\mathit{AB}} x_{\\mathit{1A}} + {\\left(k_{\\mathit{BA}} + k_{\\mathit{BB}} + k_{\\mathit{BC}} + k_{\\mathit{BD}} + k_{\\mathit{BE}}\\right)} x_{\\mathit{1B}} + k_{\\mathit{CB}} x_{\\mathit{1C}} + k_{\\mathit{DB}} x_{\\mathit{1D}} + k_{\\mathit{EB}} x_{\\mathit{1E}} & k_{\\mathit{AC}} x_{\\mathit{1A}} + k_{\\mathit{BC}} x_{\\mathit{1B}} + {\\left(k_{\\mathit{CA}} + k_{\\mathit{CB}} + k_{\\mathit{CC}} + k_{\\mathit{CD}} + k_{\\mathit{CE}}\\right)} x_{\\mathit{1C}} + k_{\\mathit{DC}} x_{\\mathit{1D}} + k_{\\mathit{EC}} x_{\\mathit{1E}} & k_{\\mathit{AD}} x_{\\mathit{1A}} + k_{\\mathit{BD}} x_{\\mathit{1B}} + k_{\\mathit{CD}} x_{\\mathit{1C}} + {\\left(k_{\\mathit{DA}} + k_{\\mathit{DB}} + k_{\\mathit{DC}} + k_{\\mathit{DD}} + k_{\\mathit{DE}}\\right)} x_{\\mathit{1D}} + k_{\\mathit{ED}} x_{\\mathit{1E}} & k_{\\mathit{AE}} x_{\\mathit{1A}} + k_{\\mathit{BE}} x_{\\mathit{1B}} + k_{\\mathit{CE}} x_{\\mathit{1C}} + k_{\\mathit{DE}} x_{\\mathit{1D}} + {\\left(k_{\\mathit{EA}} + k_{\\mathit{EB}} + k_{\\mathit{EC}} + k_{\\mathit{ED}} + k_{\\mathit{EE}}\\right)} x_{\\mathit{1E}} \\\\\n",
       "{\\left(k_{\\mathit{AA}} + k_{\\mathit{AB}} + k_{\\mathit{AC}} + k_{\\mathit{AD}} + k_{\\mathit{AE}}\\right)} x_{\\mathit{2A}} + k_{\\mathit{BA}} x_{\\mathit{2B}} + k_{\\mathit{CA}} x_{\\mathit{2C}} + k_{\\mathit{DA}} x_{\\mathit{2D}} + k_{\\mathit{EA}} x_{\\mathit{2E}} & k_{\\mathit{AB}} x_{\\mathit{2A}} + {\\left(k_{\\mathit{BA}} + k_{\\mathit{BB}} + k_{\\mathit{BC}} + k_{\\mathit{BD}} + k_{\\mathit{BE}}\\right)} x_{\\mathit{2B}} + k_{\\mathit{CB}} x_{\\mathit{2C}} + k_{\\mathit{DB}} x_{\\mathit{2D}} + k_{\\mathit{EB}} x_{\\mathit{2E}} & k_{\\mathit{AC}} x_{\\mathit{2A}} + k_{\\mathit{BC}} x_{\\mathit{2B}} + {\\left(k_{\\mathit{CA}} + k_{\\mathit{CB}} + k_{\\mathit{CC}} + k_{\\mathit{CD}} + k_{\\mathit{CE}}\\right)} x_{\\mathit{2C}} + k_{\\mathit{DC}} x_{\\mathit{2D}} + k_{\\mathit{EC}} x_{\\mathit{2E}} & k_{\\mathit{AD}} x_{\\mathit{2A}} + k_{\\mathit{BD}} x_{\\mathit{2B}} + k_{\\mathit{CD}} x_{\\mathit{2C}} + {\\left(k_{\\mathit{DA}} + k_{\\mathit{DB}} + k_{\\mathit{DC}} + k_{\\mathit{DD}} + k_{\\mathit{DE}}\\right)} x_{\\mathit{2D}} + k_{\\mathit{ED}} x_{\\mathit{2E}} & k_{\\mathit{AE}} x_{\\mathit{2A}} + k_{\\mathit{BE}} x_{\\mathit{2B}} + k_{\\mathit{CE}} x_{\\mathit{2C}} + k_{\\mathit{DE}} x_{\\mathit{2D}} + {\\left(k_{\\mathit{EA}} + k_{\\mathit{EB}} + k_{\\mathit{EC}} + k_{\\mathit{ED}} + k_{\\mathit{EE}}\\right)} x_{\\mathit{2E}} \\\\\n",
       "{\\left(k_{\\mathit{AA}} + k_{\\mathit{AB}} + k_{\\mathit{AC}} + k_{\\mathit{AD}} + k_{\\mathit{AE}}\\right)} x_{\\mathit{3A}} + k_{\\mathit{BA}} x_{\\mathit{3B}} + k_{\\mathit{CA}} x_{\\mathit{3C}} + k_{\\mathit{DA}} x_{\\mathit{3D}} + k_{\\mathit{EA}} x_{\\mathit{3E}} & k_{\\mathit{AB}} x_{\\mathit{3A}} + {\\left(k_{\\mathit{BA}} + k_{\\mathit{BB}} + k_{\\mathit{BC}} + k_{\\mathit{BD}} + k_{\\mathit{BE}}\\right)} x_{\\mathit{3B}} + k_{\\mathit{CB}} x_{\\mathit{3C}} + k_{\\mathit{DB}} x_{\\mathit{3D}} + k_{\\mathit{EB}} x_{\\mathit{3E}} & k_{\\mathit{AC}} x_{\\mathit{3A}} + k_{\\mathit{BC}} x_{\\mathit{3B}} + {\\left(k_{\\mathit{CA}} + k_{\\mathit{CB}} + k_{\\mathit{CC}} + k_{\\mathit{CD}} + k_{\\mathit{CE}}\\right)} x_{\\mathit{3C}} + k_{\\mathit{DC}} x_{\\mathit{3D}} + k_{\\mathit{EC}} x_{\\mathit{3E}} & k_{\\mathit{AD}} x_{\\mathit{3A}} + k_{\\mathit{BD}} x_{\\mathit{3B}} + k_{\\mathit{CD}} x_{\\mathit{3C}} + {\\left(k_{\\mathit{DA}} + k_{\\mathit{DB}} + k_{\\mathit{DC}} + k_{\\mathit{DD}} + k_{\\mathit{DE}}\\right)} x_{\\mathit{3D}} + k_{\\mathit{ED}} x_{\\mathit{3E}} & k_{\\mathit{AE}} x_{\\mathit{3A}} + k_{\\mathit{BE}} x_{\\mathit{3B}} + k_{\\mathit{CE}} x_{\\mathit{3C}} + k_{\\mathit{DE}} x_{\\mathit{3D}} + {\\left(k_{\\mathit{EA}} + k_{\\mathit{EB}} + k_{\\mathit{EC}} + k_{\\mathit{ED}} + k_{\\mathit{EE}}\\right)} x_{\\mathit{3E}} \\\\\n",
       "{\\left(k_{\\mathit{AA}} + k_{\\mathit{AB}} + k_{\\mathit{AC}} + k_{\\mathit{AD}} + k_{\\mathit{AE}}\\right)} x_{\\mathit{4A}} + k_{\\mathit{BA}} x_{\\mathit{4B}} + k_{\\mathit{CA}} x_{\\mathit{4C}} + k_{\\mathit{DA}} x_{\\mathit{4D}} + k_{\\mathit{EA}} x_{\\mathit{4E}} & k_{\\mathit{AB}} x_{\\mathit{4A}} + {\\left(k_{\\mathit{BA}} + k_{\\mathit{BB}} + k_{\\mathit{BC}} + k_{\\mathit{BD}} + k_{\\mathit{BE}}\\right)} x_{\\mathit{4B}} + k_{\\mathit{CB}} x_{\\mathit{4C}} + k_{\\mathit{DB}} x_{\\mathit{4D}} + k_{\\mathit{EB}} x_{\\mathit{4E}} & k_{\\mathit{AC}} x_{\\mathit{4A}} + k_{\\mathit{BC}} x_{\\mathit{4B}} + {\\left(k_{\\mathit{CA}} + k_{\\mathit{CB}} + k_{\\mathit{CC}} + k_{\\mathit{CD}} + k_{\\mathit{CE}}\\right)} x_{\\mathit{4C}} + k_{\\mathit{DC}} x_{\\mathit{4D}} + k_{\\mathit{EC}} x_{\\mathit{4E}} & k_{\\mathit{AD}} x_{\\mathit{4A}} + k_{\\mathit{BD}} x_{\\mathit{4B}} + k_{\\mathit{CD}} x_{\\mathit{4C}} + {\\left(k_{\\mathit{DA}} + k_{\\mathit{DB}} + k_{\\mathit{DC}} + k_{\\mathit{DD}} + k_{\\mathit{DE}}\\right)} x_{\\mathit{4D}} + k_{\\mathit{ED}} x_{\\mathit{4E}} & k_{\\mathit{AE}} x_{\\mathit{4A}} + k_{\\mathit{BE}} x_{\\mathit{4B}} + k_{\\mathit{CE}} x_{\\mathit{4C}} + k_{\\mathit{DE}} x_{\\mathit{4D}} + {\\left(k_{\\mathit{EA}} + k_{\\mathit{EB}} + k_{\\mathit{EC}} + k_{\\mathit{ED}} + k_{\\mathit{EE}}\\right)} x_{\\mathit{4E}}\n",
       "\\end{array}\\right)</script></html>"
      ],
      "text/latex": [
       "$$\\newcommand{\\Bold}[1]{\\mathbf{#1}}\\verb|F=| \\left(\\begin{array}{rrrrr}\n",
       "{\\left(k_{\\mathit{AA}} + k_{\\mathit{AB}} + k_{\\mathit{AC}} + k_{\\mathit{AD}} + k_{\\mathit{AE}}\\right)} x_{\\mathit{1A}} + k_{\\mathit{BA}} x_{\\mathit{1B}} + k_{\\mathit{CA}} x_{\\mathit{1C}} + k_{\\mathit{DA}} x_{\\mathit{1D}} + k_{\\mathit{EA}} x_{\\mathit{1E}} & k_{\\mathit{AB}} x_{\\mathit{1A}} + {\\left(k_{\\mathit{BA}} + k_{\\mathit{BB}} + k_{\\mathit{BC}} + k_{\\mathit{BD}} + k_{\\mathit{BE}}\\right)} x_{\\mathit{1B}} + k_{\\mathit{CB}} x_{\\mathit{1C}} + k_{\\mathit{DB}} x_{\\mathit{1D}} + k_{\\mathit{EB}} x_{\\mathit{1E}} & k_{\\mathit{AC}} x_{\\mathit{1A}} + k_{\\mathit{BC}} x_{\\mathit{1B}} + {\\left(k_{\\mathit{CA}} + k_{\\mathit{CB}} + k_{\\mathit{CC}} + k_{\\mathit{CD}} + k_{\\mathit{CE}}\\right)} x_{\\mathit{1C}} + k_{\\mathit{DC}} x_{\\mathit{1D}} + k_{\\mathit{EC}} x_{\\mathit{1E}} & k_{\\mathit{AD}} x_{\\mathit{1A}} + k_{\\mathit{BD}} x_{\\mathit{1B}} + k_{\\mathit{CD}} x_{\\mathit{1C}} + {\\left(k_{\\mathit{DA}} + k_{\\mathit{DB}} + k_{\\mathit{DC}} + k_{\\mathit{DD}} + k_{\\mathit{DE}}\\right)} x_{\\mathit{1D}} + k_{\\mathit{ED}} x_{\\mathit{1E}} & k_{\\mathit{AE}} x_{\\mathit{1A}} + k_{\\mathit{BE}} x_{\\mathit{1B}} + k_{\\mathit{CE}} x_{\\mathit{1C}} + k_{\\mathit{DE}} x_{\\mathit{1D}} + {\\left(k_{\\mathit{EA}} + k_{\\mathit{EB}} + k_{\\mathit{EC}} + k_{\\mathit{ED}} + k_{\\mathit{EE}}\\right)} x_{\\mathit{1E}} \\\\\n",
       "{\\left(k_{\\mathit{AA}} + k_{\\mathit{AB}} + k_{\\mathit{AC}} + k_{\\mathit{AD}} + k_{\\mathit{AE}}\\right)} x_{\\mathit{2A}} + k_{\\mathit{BA}} x_{\\mathit{2B}} + k_{\\mathit{CA}} x_{\\mathit{2C}} + k_{\\mathit{DA}} x_{\\mathit{2D}} + k_{\\mathit{EA}} x_{\\mathit{2E}} & k_{\\mathit{AB}} x_{\\mathit{2A}} + {\\left(k_{\\mathit{BA}} + k_{\\mathit{BB}} + k_{\\mathit{BC}} + k_{\\mathit{BD}} + k_{\\mathit{BE}}\\right)} x_{\\mathit{2B}} + k_{\\mathit{CB}} x_{\\mathit{2C}} + k_{\\mathit{DB}} x_{\\mathit{2D}} + k_{\\mathit{EB}} x_{\\mathit{2E}} & k_{\\mathit{AC}} x_{\\mathit{2A}} + k_{\\mathit{BC}} x_{\\mathit{2B}} + {\\left(k_{\\mathit{CA}} + k_{\\mathit{CB}} + k_{\\mathit{CC}} + k_{\\mathit{CD}} + k_{\\mathit{CE}}\\right)} x_{\\mathit{2C}} + k_{\\mathit{DC}} x_{\\mathit{2D}} + k_{\\mathit{EC}} x_{\\mathit{2E}} & k_{\\mathit{AD}} x_{\\mathit{2A}} + k_{\\mathit{BD}} x_{\\mathit{2B}} + k_{\\mathit{CD}} x_{\\mathit{2C}} + {\\left(k_{\\mathit{DA}} + k_{\\mathit{DB}} + k_{\\mathit{DC}} + k_{\\mathit{DD}} + k_{\\mathit{DE}}\\right)} x_{\\mathit{2D}} + k_{\\mathit{ED}} x_{\\mathit{2E}} & k_{\\mathit{AE}} x_{\\mathit{2A}} + k_{\\mathit{BE}} x_{\\mathit{2B}} + k_{\\mathit{CE}} x_{\\mathit{2C}} + k_{\\mathit{DE}} x_{\\mathit{2D}} + {\\left(k_{\\mathit{EA}} + k_{\\mathit{EB}} + k_{\\mathit{EC}} + k_{\\mathit{ED}} + k_{\\mathit{EE}}\\right)} x_{\\mathit{2E}} \\\\\n",
       "{\\left(k_{\\mathit{AA}} + k_{\\mathit{AB}} + k_{\\mathit{AC}} + k_{\\mathit{AD}} + k_{\\mathit{AE}}\\right)} x_{\\mathit{3A}} + k_{\\mathit{BA}} x_{\\mathit{3B}} + k_{\\mathit{CA}} x_{\\mathit{3C}} + k_{\\mathit{DA}} x_{\\mathit{3D}} + k_{\\mathit{EA}} x_{\\mathit{3E}} & k_{\\mathit{AB}} x_{\\mathit{3A}} + {\\left(k_{\\mathit{BA}} + k_{\\mathit{BB}} + k_{\\mathit{BC}} + k_{\\mathit{BD}} + k_{\\mathit{BE}}\\right)} x_{\\mathit{3B}} + k_{\\mathit{CB}} x_{\\mathit{3C}} + k_{\\mathit{DB}} x_{\\mathit{3D}} + k_{\\mathit{EB}} x_{\\mathit{3E}} & k_{\\mathit{AC}} x_{\\mathit{3A}} + k_{\\mathit{BC}} x_{\\mathit{3B}} + {\\left(k_{\\mathit{CA}} + k_{\\mathit{CB}} + k_{\\mathit{CC}} + k_{\\mathit{CD}} + k_{\\mathit{CE}}\\right)} x_{\\mathit{3C}} + k_{\\mathit{DC}} x_{\\mathit{3D}} + k_{\\mathit{EC}} x_{\\mathit{3E}} & k_{\\mathit{AD}} x_{\\mathit{3A}} + k_{\\mathit{BD}} x_{\\mathit{3B}} + k_{\\mathit{CD}} x_{\\mathit{3C}} + {\\left(k_{\\mathit{DA}} + k_{\\mathit{DB}} + k_{\\mathit{DC}} + k_{\\mathit{DD}} + k_{\\mathit{DE}}\\right)} x_{\\mathit{3D}} + k_{\\mathit{ED}} x_{\\mathit{3E}} & k_{\\mathit{AE}} x_{\\mathit{3A}} + k_{\\mathit{BE}} x_{\\mathit{3B}} + k_{\\mathit{CE}} x_{\\mathit{3C}} + k_{\\mathit{DE}} x_{\\mathit{3D}} + {\\left(k_{\\mathit{EA}} + k_{\\mathit{EB}} + k_{\\mathit{EC}} + k_{\\mathit{ED}} + k_{\\mathit{EE}}\\right)} x_{\\mathit{3E}} \\\\\n",
       "{\\left(k_{\\mathit{AA}} + k_{\\mathit{AB}} + k_{\\mathit{AC}} + k_{\\mathit{AD}} + k_{\\mathit{AE}}\\right)} x_{\\mathit{4A}} + k_{\\mathit{BA}} x_{\\mathit{4B}} + k_{\\mathit{CA}} x_{\\mathit{4C}} + k_{\\mathit{DA}} x_{\\mathit{4D}} + k_{\\mathit{EA}} x_{\\mathit{4E}} & k_{\\mathit{AB}} x_{\\mathit{4A}} + {\\left(k_{\\mathit{BA}} + k_{\\mathit{BB}} + k_{\\mathit{BC}} + k_{\\mathit{BD}} + k_{\\mathit{BE}}\\right)} x_{\\mathit{4B}} + k_{\\mathit{CB}} x_{\\mathit{4C}} + k_{\\mathit{DB}} x_{\\mathit{4D}} + k_{\\mathit{EB}} x_{\\mathit{4E}} & k_{\\mathit{AC}} x_{\\mathit{4A}} + k_{\\mathit{BC}} x_{\\mathit{4B}} + {\\left(k_{\\mathit{CA}} + k_{\\mathit{CB}} + k_{\\mathit{CC}} + k_{\\mathit{CD}} + k_{\\mathit{CE}}\\right)} x_{\\mathit{4C}} + k_{\\mathit{DC}} x_{\\mathit{4D}} + k_{\\mathit{EC}} x_{\\mathit{4E}} & k_{\\mathit{AD}} x_{\\mathit{4A}} + k_{\\mathit{BD}} x_{\\mathit{4B}} + k_{\\mathit{CD}} x_{\\mathit{4C}} + {\\left(k_{\\mathit{DA}} + k_{\\mathit{DB}} + k_{\\mathit{DC}} + k_{\\mathit{DD}} + k_{\\mathit{DE}}\\right)} x_{\\mathit{4D}} + k_{\\mathit{ED}} x_{\\mathit{4E}} & k_{\\mathit{AE}} x_{\\mathit{4A}} + k_{\\mathit{BE}} x_{\\mathit{4B}} + k_{\\mathit{CE}} x_{\\mathit{4C}} + k_{\\mathit{DE}} x_{\\mathit{4D}} + {\\left(k_{\\mathit{EA}} + k_{\\mathit{EB}} + k_{\\mathit{EC}} + k_{\\mathit{ED}} + k_{\\mathit{EE}}\\right)} x_{\\mathit{4E}}\n",
       "\\end{array}\\right)$$"
      ],
      "text/plain": [
       "'F=' [(k_AA + k_AB + k_AC + k_AD + k_AE)*x_1A + k_BA*x_1B + k_CA*x_1C + k_DA*x_1D + k_EA*x_1E k_AB*x_1A + (k_BA + k_BB + k_BC + k_BD + k_BE)*x_1B + k_CB*x_1C + k_DB*x_1D + k_EB*x_1E k_AC*x_1A + k_BC*x_1B + (k_CA + k_CB + k_CC + k_CD + k_CE)*x_1C + k_DC*x_1D + k_EC*x_1E k_AD*x_1A + k_BD*x_1B + k_CD*x_1C + (k_DA + k_DB + k_DC + k_DD + k_DE)*x_1D + k_ED*x_1E k_AE*x_1A + k_BE*x_1B + k_CE*x_1C + k_DE*x_1D + (k_EA + k_EB + k_EC + k_ED + k_EE)*x_1E]\n",
       "[(k_AA + k_AB + k_AC + k_AD + k_AE)*x_2A + k_BA*x_2B + k_CA*x_2C + k_DA*x_2D + k_EA*x_2E k_AB*x_2A + (k_BA + k_BB + k_BC + k_BD + k_BE)*x_2B + k_CB*x_2C + k_DB*x_2D + k_EB*x_2E k_AC*x_2A + k_BC*x_2B + (k_CA + k_CB + k_CC + k_CD + k_CE)*x_2C + k_DC*x_2D + k_EC*x_2E k_AD*x_2A + k_BD*x_2B + k_CD*x_2C + (k_DA + k_DB + k_DC + k_DD + k_DE)*x_2D + k_ED*x_2E k_AE*x_2A + k_BE*x_2B + k_CE*x_2C + k_DE*x_2D + (k_EA + k_EB + k_EC + k_ED + k_EE)*x_2E]\n",
       "[(k_AA + k_AB + k_AC + k_AD + k_AE)*x_3A + k_BA*x_3B + k_CA*x_3C + k_DA*x_3D + k_EA*x_3E k_AB*x_3A + (k_BA + k_BB + k_BC + k_BD + k_BE)*x_3B + k_CB*x_3C + k_DB*x_3D + k_EB*x_3E k_AC*x_3A + k_BC*x_3B + (k_CA + k_CB + k_CC + k_CD + k_CE)*x_3C + k_DC*x_3D + k_EC*x_3E k_AD*x_3A + k_BD*x_3B + k_CD*x_3C + (k_DA + k_DB + k_DC + k_DD + k_DE)*x_3D + k_ED*x_3E k_AE*x_3A + k_BE*x_3B + k_CE*x_3C + k_DE*x_3D + (k_EA + k_EB + k_EC + k_ED + k_EE)*x_3E]\n",
       "[(k_AA + k_AB + k_AC + k_AD + k_AE)*x_4A + k_BA*x_4B + k_CA*x_4C + k_DA*x_4D + k_EA*x_4E k_AB*x_4A + (k_BA + k_BB + k_BC + k_BD + k_BE)*x_4B + k_CB*x_4C + k_DB*x_4D + k_EB*x_4E k_AC*x_4A + k_BC*x_4B + (k_CA + k_CB + k_CC + k_CD + k_CE)*x_4C + k_DC*x_4D + k_EC*x_4E k_AD*x_4A + k_BD*x_4B + k_CD*x_4C + (k_DA + k_DB + k_DC + k_DD + k_DE)*x_4D + k_ED*x_4E k_AE*x_4A + k_BE*x_4B + k_CE*x_4C + k_DE*x_4D + (k_EA + k_EB + k_EC + k_ED + k_EE)*x_4E]"
      ]
     },
     "metadata": {},
     "output_type": "display_data"
    },
    {
     "data": {
      "text/html": [
       "Seja <script type=\"math/tex\">f_i</script> o vetor de fitness de cada tipo <script type=\"math/tex\">i</script>:"
      ],
      "text/plain": [
       "Seja <script type=\"math/tex\">f_i</script> o vetor de fitness de cada tipo <script type=\"math/tex\">i</script>:"
      ]
     },
     "metadata": {},
     "output_type": "display_data"
    },
    {
     "data": {
      "text/html": [
       "<html><script type=\"math/tex; mode=display\">\\newcommand{\\Bold}[1]{\\mathbf{#1}}\\verb|f=| \\left(\\begin{array}{rrrr}\n",
       "\\frac{1}{5} & \\frac{1}{3} & \\frac{2}{5} & \\frac{1}{2}\n",
       "\\end{array}\\right)</script></html>"
      ],
      "text/latex": [
       "$$\\newcommand{\\Bold}[1]{\\mathbf{#1}}\\verb|f=| \\left(\\begin{array}{rrrr}\n",
       "\\frac{1}{5} & \\frac{1}{3} & \\frac{2}{5} & \\frac{1}{2}\n",
       "\\end{array}\\right)$$"
      ],
      "text/plain": [
       "'f=' [1/5 1/3 2/5 1/2]"
      ]
     },
     "metadata": {},
     "output_type": "display_data"
    },
    {
     "data": {
      "text/html": [
       "Nosso modelo fica então <script type=\"math/tex\">\\dot{x_{ij}}=f_i \\times x_{ij} + F_{ij} - x_{ij}\\sum_j M_{ij} -\\phi x_i</script>:"
      ],
      "text/plain": [
       "Nosso modelo fica então <script type=\"math/tex\">\\dot{x_{ij}}=f_i \\times x_{ij} + F_{ij} - x_{ij}\\sum_j M_{ij} -\\phi x_i</script>:"
      ]
     },
     "metadata": {},
     "output_type": "display_data"
    }
   ],
   "source": [
    "pretty_print(html('a) Vamos escrever o modelo evolutivo, começando com 4 tipos e 5 localidades, denotadas pelos vetores $X$ e $L$, respectivamente:'))\n",
    "var('x_1 x_2 x_3 x_4 A B C D E')\n",
    "X = Matrix(SR,[x_1, x_2, x_3, x_4])\n",
    "L = Matrix(SR,[A,B,C,D,E])\n",
    "show(\"X=\", X,\", L=\",L)\n",
    "\n",
    "D = Matrix(SR, X.ncols(),L.ncols(), lambda i,j: var('{}{}'.format(X[0,i],L[0,j])))\n",
    "pretty_print(html(\"Seja $D$ a matriz com as densidades em cada uma das localidades:\"))\n",
    "show(\"D=\",D)\n",
    "pretty_print(html(\"Seja $M$ a matriz com as taxas de migração $k_{ij}$ entre cada uma das localidades:\"))\n",
    "M = Matrix(SR, L.ncols(),L.ncols(), lambda i,j: var(f'k_{L[0,i]}{L[0,j]}'))\n",
    "MD = Matrix(SR, L.ncols(),L.ncols(), lambda i,j: 0+ int(i==j)*sum(M[i]))  # Diagonal de M\n",
    "MLT = Matrix(SR, L.ncols(),L.ncols(), lambda i,j: (1-int(j>=i))*var(f'k_{L[0,i]}{L[0,j]}')) # Triangulo inferior\n",
    "MUT = Matrix(SR, L.ncols(),L.ncols(), lambda i,j: (1-int(j<i))*var(f'k_{L[0,i]}{L[0,j]}')) # Triangulo superior\n",
    "M = M-(identity_matrix(5).elementwise_product(M))+MD  # MLT+MD+MUT\n",
    "show(\"M=\",M)\n",
    "pretty_print(html(r\"Logo, $F=D \\times M$ é uma matriz em que cada elemento $f_{ij}$ representa a imigração do tipo $i$ em cada patch $j$ vindo de todos os outros patches:\"))\n",
    "F = D*M\n",
    "show(\"F=\", F)\n",
    "pretty_print(html(\"Seja $f_i$ o vetor de fitness de cada tipo $i$:\"))\n",
    "f_i = Matrix(SR, [1/5, 1/3, 2/5, 1/2])\n",
    "show('f=', f_i)\n",
    "pretty_print(html(r\"Nosso modelo fica então $\\dot{x_{ij}}=f_i \\times x_{ij} + F_{ij} - x_{ij}\\sum_j M_{ij} -\\phi x_i$:\"))"
   ]
  },
  {
   "cell_type": "code",
   "execution_count": 35,
   "metadata": {},
   "outputs": [
    {
     "data": {
      "text/html": [
       "<html><script type=\"math/tex; mode=display\">\\newcommand{\\Bold}[1]{\\mathbf{#1}}\\left(\\begin{array}{rrrrr}\n",
       "0 & 0 & 0 & 0 & 0 \\\\\n",
       "k_{\\mathit{BA}} & 0 & 0 & 0 & 0 \\\\\n",
       "k_{\\mathit{CA}} & k_{\\mathit{CB}} & 0 & 0 & 0 \\\\\n",
       "k_{\\mathit{DA}} & k_{\\mathit{DB}} & k_{\\mathit{DC}} & 0 & 0 \\\\\n",
       "k_{\\mathit{EA}} & k_{\\mathit{EB}} & k_{\\mathit{EC}} & k_{\\mathit{ED}} & 0\n",
       "\\end{array}\\right)</script></html>"
      ],
      "text/latex": [
       "$$\\newcommand{\\Bold}[1]{\\mathbf{#1}}\\left(\\begin{array}{rrrrr}\n",
       "0 & 0 & 0 & 0 & 0 \\\\\n",
       "k_{\\mathit{BA}} & 0 & 0 & 0 & 0 \\\\\n",
       "k_{\\mathit{CA}} & k_{\\mathit{CB}} & 0 & 0 & 0 \\\\\n",
       "k_{\\mathit{DA}} & k_{\\mathit{DB}} & k_{\\mathit{DC}} & 0 & 0 \\\\\n",
       "k_{\\mathit{EA}} & k_{\\mathit{EB}} & k_{\\mathit{EC}} & k_{\\mathit{ED}} & 0\n",
       "\\end{array}\\right)$$"
      ],
      "text/plain": [
       "[   0    0    0    0    0]\n",
       "[k_BA    0    0    0    0]\n",
       "[k_CA k_CB    0    0    0]\n",
       "[k_DA k_DB k_DC    0    0]\n",
       "[k_EA k_EB k_EC k_ED    0]"
      ]
     },
     "execution_count": 35,
     "metadata": {},
     "output_type": "execute_result"
    }
   ],
   "source": [
    "MLT"
   ]
  },
  {
   "cell_type": "code",
   "execution_count": 38,
   "metadata": {
    "ExecuteTime": {
     "end_time": "2021-10-27T12:14:53.755001Z",
     "start_time": "2021-10-27T12:14:53.740582Z"
    }
   },
   "outputs": [],
   "source": [
    "def sel_model(t, D, params):\n",
    "    D = D.reshape((4,5))\n",
    "#     print(D)\n",
    "    f, M= params\n",
    "    F=D@M\n",
    "    print(F)\n",
    "    print(f)\n",
    "    E = M.sum(axis=1) # emigration\n",
    "    X = D.sum(axis=1)\n",
    "    phi = sum(np.dot(f,X))\n",
    "    res = np.dot(f,X) + F- np.dot(X,E) - phi*D\n",
    "    return res"
   ]
  },
  {
   "cell_type": "code",
   "execution_count": 12,
   "metadata": {
    "ExecuteTime": {
     "end_time": "2021-10-27T12:14:54.950697Z",
     "start_time": "2021-10-27T12:14:54.937293Z"
    }
   },
   "outputs": [
    {
     "data": {
      "text/html": [
       "<html><script type=\"math/tex; mode=display\">\\newcommand{\\Bold}[1]{\\mathbf{#1}}\\left(\\begin{array}{rrrrr}\n",
       "k_{\\mathit{AA}} & k_{\\mathit{AB}} & k_{\\mathit{AC}} & k_{\\mathit{AD}} & k_{\\mathit{AE}} \\\\\n",
       "k_{\\mathit{BA}} & k_{\\mathit{BB}} & k_{\\mathit{BC}} & k_{\\mathit{BD}} & k_{\\mathit{BE}} \\\\\n",
       "k_{\\mathit{CA}} & k_{\\mathit{CB}} & k_{\\mathit{CC}} & k_{\\mathit{CD}} & k_{\\mathit{CE}} \\\\\n",
       "k_{\\mathit{DA}} & k_{\\mathit{DB}} & k_{\\mathit{DC}} & k_{\\mathit{DD}} & k_{\\mathit{DE}} \\\\\n",
       "k_{\\mathit{EA}} & k_{\\mathit{EB}} & k_{\\mathit{EC}} & k_{\\mathit{ED}} & k_{\\mathit{EE}}\n",
       "\\end{array}\\right)</script></html>"
      ],
      "text/latex": [
       "$$\\newcommand{\\Bold}[1]{\\mathbf{#1}}\\left(\\begin{array}{rrrrr}\n",
       "k_{\\mathit{AA}} & k_{\\mathit{AB}} & k_{\\mathit{AC}} & k_{\\mathit{AD}} & k_{\\mathit{AE}} \\\\\n",
       "k_{\\mathit{BA}} & k_{\\mathit{BB}} & k_{\\mathit{BC}} & k_{\\mathit{BD}} & k_{\\mathit{BE}} \\\\\n",
       "k_{\\mathit{CA}} & k_{\\mathit{CB}} & k_{\\mathit{CC}} & k_{\\mathit{CD}} & k_{\\mathit{CE}} \\\\\n",
       "k_{\\mathit{DA}} & k_{\\mathit{DB}} & k_{\\mathit{DC}} & k_{\\mathit{DD}} & k_{\\mathit{DE}} \\\\\n",
       "k_{\\mathit{EA}} & k_{\\mathit{EB}} & k_{\\mathit{EC}} & k_{\\mathit{ED}} & k_{\\mathit{EE}}\n",
       "\\end{array}\\right)$$"
      ],
      "text/plain": [
       "[k_AA k_AB k_AC k_AD k_AE]\n",
       "[k_BA k_BB k_BC k_BD k_BE]\n",
       "[k_CA k_CB k_CC k_CD k_CE]\n",
       "[k_DA k_DB k_DC k_DD k_DE]\n",
       "[k_EA k_EB k_EC k_ED k_EE]"
      ]
     },
     "execution_count": 12,
     "metadata": {},
     "output_type": "execute_result"
    }
   ],
   "source": [
    "Matrix(SR, L.ncols(),L.ncols(), lambda i,j: var('k_{}{}'.format(L[0,i],L[0,j])))*identity_matrix(5)"
   ]
  },
  {
   "cell_type": "code",
   "execution_count": 13,
   "metadata": {
    "ExecuteTime": {
     "end_time": "2021-10-27T12:14:58.062767Z",
     "start_time": "2021-10-27T12:14:58.048761Z"
    }
   },
   "outputs": [
    {
     "data": {
      "text/html": [
       "<html><script type=\"math/tex; mode=display\">\\newcommand{\\Bold}[1]{\\mathbf{#1}}\\left(k_{\\mathit{AA}} + k_{\\mathit{AB}} + k_{\\mathit{AC}} + k_{\\mathit{AD}} + k_{\\mathit{AE}} + k_{\\mathit{BA}} + k_{\\mathit{CA}} + k_{\\mathit{DA}} + k_{\\mathit{EA}},\\,k_{\\mathit{AB}} + k_{\\mathit{BA}} + k_{\\mathit{BB}} + k_{\\mathit{BC}} + k_{\\mathit{BD}} + k_{\\mathit{BE}} + k_{\\mathit{CB}} + k_{\\mathit{DB}} + k_{\\mathit{EB}},\\,k_{\\mathit{AC}} + k_{\\mathit{BC}} + k_{\\mathit{CA}} + k_{\\mathit{CB}} + k_{\\mathit{CC}} + k_{\\mathit{CD}} + k_{\\mathit{CE}} + k_{\\mathit{DC}} + k_{\\mathit{EC}},\\,k_{\\mathit{AD}} + k_{\\mathit{BD}} + k_{\\mathit{CD}} + k_{\\mathit{DA}} + k_{\\mathit{DB}} + k_{\\mathit{DC}} + k_{\\mathit{DD}} + k_{\\mathit{DE}} + k_{\\mathit{ED}},\\,k_{\\mathit{AE}} + k_{\\mathit{BE}} + k_{\\mathit{CE}} + k_{\\mathit{DE}} + k_{\\mathit{EA}} + k_{\\mathit{EB}} + k_{\\mathit{EC}} + k_{\\mathit{ED}} + k_{\\mathit{EE}}\\right)</script></html>"
      ],
      "text/latex": [
       "$$\\newcommand{\\Bold}[1]{\\mathbf{#1}}\\left(k_{\\mathit{AA}} + k_{\\mathit{AB}} + k_{\\mathit{AC}} + k_{\\mathit{AD}} + k_{\\mathit{AE}} + k_{\\mathit{BA}} + k_{\\mathit{CA}} + k_{\\mathit{DA}} + k_{\\mathit{EA}},\\,k_{\\mathit{AB}} + k_{\\mathit{BA}} + k_{\\mathit{BB}} + k_{\\mathit{BC}} + k_{\\mathit{BD}} + k_{\\mathit{BE}} + k_{\\mathit{CB}} + k_{\\mathit{DB}} + k_{\\mathit{EB}},\\,k_{\\mathit{AC}} + k_{\\mathit{BC}} + k_{\\mathit{CA}} + k_{\\mathit{CB}} + k_{\\mathit{CC}} + k_{\\mathit{CD}} + k_{\\mathit{CE}} + k_{\\mathit{DC}} + k_{\\mathit{EC}},\\,k_{\\mathit{AD}} + k_{\\mathit{BD}} + k_{\\mathit{CD}} + k_{\\mathit{DA}} + k_{\\mathit{DB}} + k_{\\mathit{DC}} + k_{\\mathit{DD}} + k_{\\mathit{DE}} + k_{\\mathit{ED}},\\,k_{\\mathit{AE}} + k_{\\mathit{BE}} + k_{\\mathit{CE}} + k_{\\mathit{DE}} + k_{\\mathit{EA}} + k_{\\mathit{EB}} + k_{\\mathit{EC}} + k_{\\mathit{ED}} + k_{\\mathit{EE}}\\right)$$"
      ],
      "text/plain": [
       "(k_AA + k_AB + k_AC + k_AD + k_AE + k_BA + k_CA + k_DA + k_EA, k_AB + k_BA + k_BB + k_BC + k_BD + k_BE + k_CB + k_DB + k_EB, k_AC + k_BC + k_CA + k_CB + k_CC + k_CD + k_CE + k_DC + k_EC, k_AD + k_BD + k_CD + k_DA + k_DB + k_DC + k_DD + k_DE + k_ED, k_AE + k_BE + k_CE + k_DE + k_EA + k_EB + k_EC + k_ED + k_EE)"
      ]
     },
     "execution_count": 13,
     "metadata": {},
     "output_type": "execute_result"
    }
   ],
   "source": [
    "sum(M[i] for i in range(M.nrows()))"
   ]
  },
  {
   "cell_type": "code",
   "execution_count": 14,
   "metadata": {
    "ExecuteTime": {
     "end_time": "2021-10-27T12:15:02.959817Z",
     "start_time": "2021-10-27T12:15:02.945998Z"
    }
   },
   "outputs": [],
   "source": [
    "T2=ode_solver()\n",
    "T2.function = sel_model\n",
    "T2.algorithm = \"rk8pd\""
   ]
  },
  {
   "cell_type": "code",
   "execution_count": 15,
   "metadata": {
    "ExecuteTime": {
     "end_time": "2021-10-27T12:15:04.360267Z",
     "start_time": "2021-10-27T12:15:04.093535Z"
    }
   },
   "outputs": [
    {
     "ename": "ValueError",
     "evalue": "error solving",
     "output_type": "error",
     "traceback": [
      "\u001b[0;31m---------------------------------------------------------------------------\u001b[0m",
      "\u001b[0;31mRuntimeError\u001b[0m                              Traceback (most recent call last)",
      "\u001b[0;32m/usr/lib/python3/dist-packages/sage/calculus/ode.pyx\u001b[0m in \u001b[0;36msage.calculus.ode.ode_solver.ode_solve (build/cythonized/sage/calculus/ode.c:6834)\u001b[0;34m()\u001b[0m\n\u001b[1;32m    554\u001b[0m                         \u001b[0;32mif\u001b[0m \u001b[0;34m(\u001b[0m\u001b[0mstatus\u001b[0m \u001b[0;34m!=\u001b[0m \u001b[0mGSL_SUCCESS\u001b[0m\u001b[0;34m)\u001b[0m\u001b[0;34m:\u001b[0m\u001b[0;34m\u001b[0m\u001b[0;34m\u001b[0m\u001b[0m\n\u001b[0;32m--> 555\u001b[0;31m                             \u001b[0;32mraise\u001b[0m \u001b[0mRuntimeError\u001b[0m\u001b[0;34m\u001b[0m\u001b[0;34m\u001b[0m\u001b[0m\n\u001b[0m\u001b[1;32m    556\u001b[0m                     \u001b[0;32mexcept\u001b[0m \u001b[0mRuntimeError\u001b[0m\u001b[0;34m:\u001b[0m\u001b[0;34m\u001b[0m\u001b[0;34m\u001b[0m\u001b[0m\n",
      "\u001b[0;31mRuntimeError\u001b[0m: ",
      "\nDuring handling of the above exception, another exception occurred:\n",
      "\u001b[0;31mValueError\u001b[0m                                Traceback (most recent call last)",
      "\u001b[0;32m/tmp/ipykernel_1626532/3675337917.py\u001b[0m in \u001b[0;36m<cell line: 4>\u001b[0;34m()\u001b[0m\n\u001b[1;32m      2\u001b[0m \u001b[0minits\u001b[0m \u001b[0;34m=\u001b[0m \u001b[0mnp\u001b[0m\u001b[0;34m.\u001b[0m\u001b[0mzeros\u001b[0m\u001b[0;34m(\u001b[0m\u001b[0mInteger\u001b[0m\u001b[0;34m(\u001b[0m\u001b[0;36m20\u001b[0m\u001b[0;34m)\u001b[0m\u001b[0;34m)\u001b[0m\u001b[0;34m+\u001b[0m\u001b[0mRealNumber\u001b[0m\u001b[0;34m(\u001b[0m\u001b[0;34m'0.25'\u001b[0m\u001b[0;34m)\u001b[0m\u001b[0;34m\u001b[0m\u001b[0;34m\u001b[0m\u001b[0m\n\u001b[1;32m      3\u001b[0m \u001b[0mt_span\u001b[0m \u001b[0;34m=\u001b[0m \u001b[0;34m[\u001b[0m\u001b[0mInteger\u001b[0m\u001b[0;34m(\u001b[0m\u001b[0;36m0\u001b[0m\u001b[0;34m)\u001b[0m\u001b[0;34m,\u001b[0m\u001b[0mInteger\u001b[0m\u001b[0;34m(\u001b[0m\u001b[0;36m70\u001b[0m\u001b[0;34m)\u001b[0m\u001b[0;34m]\u001b[0m\u001b[0;34m\u001b[0m\u001b[0;34m\u001b[0m\u001b[0m\n\u001b[0;32m----> 4\u001b[0;31m \u001b[0mT\u001b[0m\u001b[0;34m.\u001b[0m\u001b[0mode_solve\u001b[0m\u001b[0;34m(\u001b[0m\u001b[0mt_span\u001b[0m\u001b[0;34m,\u001b[0m\u001b[0mlist\u001b[0m\u001b[0;34m(\u001b[0m\u001b[0minits\u001b[0m\u001b[0;34m)\u001b[0m\u001b[0;34m,\u001b[0m\u001b[0mnum_points\u001b[0m\u001b[0;34m=\u001b[0m\u001b[0mInteger\u001b[0m\u001b[0;34m(\u001b[0m\u001b[0;36m300\u001b[0m\u001b[0;34m)\u001b[0m\u001b[0;34m,\u001b[0m \u001b[0mparams\u001b[0m\u001b[0;34m=\u001b[0m\u001b[0;34m(\u001b[0m\u001b[0mf_i\u001b[0m\u001b[0;34m,\u001b[0m\u001b[0mD\u001b[0m\u001b[0;34m)\u001b[0m\u001b[0;34m)\u001b[0m\u001b[0;34m\u001b[0m\u001b[0;34m\u001b[0m\u001b[0m\n\u001b[0m",
      "\u001b[0;32m/usr/lib/python3/dist-packages/sage/calculus/ode.pyx\u001b[0m in \u001b[0;36msage.calculus.ode.ode_solver.ode_solve (build/cythonized/sage/calculus/ode.c:6934)\u001b[0;34m()\u001b[0m\n\u001b[1;32m    560\u001b[0m                         \u001b[0msig_free\u001b[0m\u001b[0;34m(\u001b[0m\u001b[0my\u001b[0m\u001b[0;34m)\u001b[0m\u001b[0;34m\u001b[0m\u001b[0;34m\u001b[0m\u001b[0m\n\u001b[1;32m    561\u001b[0m                         \u001b[0msig_free\u001b[0m\u001b[0;34m(\u001b[0m\u001b[0mscale_abs_array\u001b[0m\u001b[0;34m)\u001b[0m\u001b[0;34m\u001b[0m\u001b[0;34m\u001b[0m\u001b[0m\n\u001b[0;32m--> 562\u001b[0;31m                         \u001b[0;32mraise\u001b[0m \u001b[0mValueError\u001b[0m\u001b[0;34m(\u001b[0m\u001b[0;34m\"error solving\"\u001b[0m\u001b[0;34m)\u001b[0m\u001b[0;34m\u001b[0m\u001b[0;34m\u001b[0m\u001b[0m\n\u001b[0m\u001b[1;32m    563\u001b[0m \u001b[0;34m\u001b[0m\u001b[0m\n\u001b[1;32m    564\u001b[0m                 \u001b[0;32mfor\u001b[0m \u001b[0mj\u001b[0m  \u001b[0;32mfrom\u001b[0m \u001b[0;36m0\u001b[0m\u001b[0;34m<=\u001b[0m\u001b[0mj\u001b[0m\u001b[0;34m<\u001b[0m\u001b[0mdim\u001b[0m\u001b[0;34m:\u001b[0m\u001b[0;34m\u001b[0m\u001b[0;34m\u001b[0m\u001b[0m\n",
      "\u001b[0;31mValueError\u001b[0m: error solving"
     ]
    }
   ],
   "source": [
    "import numpy as np\n",
    "inits = np.zeros(20)+0.25\n",
    "t_span = [0,70]\n",
    "T.ode_solve(t_span,list(inits),num_points=300, params=(f_i,D))"
   ]
  },
  {
   "cell_type": "code",
   "execution_count": 39,
   "metadata": {},
   "outputs": [
    {
     "name": "stdout",
     "output_type": "stream",
     "text": [
      "[[0.125 0.125 0.125 0.125 0.125]\n",
      " [0.125 0.125 0.125 0.125 0.125]\n",
      " [0.125 0.125 0.125 0.125 0.125]\n",
      " [0.125 0.125 0.125 0.125 0.125]]\n",
      "[1/5 1/3 2/5 1/2]\n"
     ]
    },
    {
     "ename": "ValueError",
     "evalue": "shapes (4,) and (5,) not aligned: 4 (dim 0) != 5 (dim 0)",
     "output_type": "error",
     "traceback": [
      "\u001b[0;31m---------------------------------------------------------------------------\u001b[0m",
      "\u001b[0;31mValueError\u001b[0m                                Traceback (most recent call last)",
      "\u001b[0;32m/tmp/ipykernel_1626532/843725810.py\u001b[0m in \u001b[0;36m<cell line: 1>\u001b[0;34m()\u001b[0m\n\u001b[0;32m----> 1\u001b[0;31m \u001b[0msel_model\u001b[0m\u001b[0;34m(\u001b[0m\u001b[0mInteger\u001b[0m\u001b[0;34m(\u001b[0m\u001b[0;36m0\u001b[0m\u001b[0;34m)\u001b[0m\u001b[0;34m,\u001b[0m\u001b[0minits\u001b[0m\u001b[0;34m,\u001b[0m\u001b[0;34m[\u001b[0m\u001b[0mf_i\u001b[0m\u001b[0;34m,\u001b[0m\u001b[0mnp\u001b[0m\u001b[0;34m.\u001b[0m\u001b[0mones\u001b[0m\u001b[0;34m(\u001b[0m\u001b[0;34m(\u001b[0m\u001b[0mInteger\u001b[0m\u001b[0;34m(\u001b[0m\u001b[0;36m5\u001b[0m\u001b[0;34m)\u001b[0m\u001b[0;34m,\u001b[0m\u001b[0mInteger\u001b[0m\u001b[0;34m(\u001b[0m\u001b[0;36m5\u001b[0m\u001b[0;34m)\u001b[0m\u001b[0;34m)\u001b[0m\u001b[0;34m)\u001b[0m\u001b[0;34m*\u001b[0m\u001b[0mRealNumber\u001b[0m\u001b[0;34m(\u001b[0m\u001b[0;34m'0.1'\u001b[0m\u001b[0;34m)\u001b[0m\u001b[0;34m]\u001b[0m\u001b[0;34m)\u001b[0m\u001b[0;34m\u001b[0m\u001b[0;34m\u001b[0m\u001b[0m\n\u001b[0m",
      "\u001b[0;32m/tmp/ipykernel_1626532/3357765190.py\u001b[0m in \u001b[0;36msel_model\u001b[0;34m(t, D, params)\u001b[0m\n\u001b[1;32m      9\u001b[0m     \u001b[0mX\u001b[0m \u001b[0;34m=\u001b[0m \u001b[0mD\u001b[0m\u001b[0;34m.\u001b[0m\u001b[0msum\u001b[0m\u001b[0;34m(\u001b[0m\u001b[0maxis\u001b[0m\u001b[0;34m=\u001b[0m\u001b[0mInteger\u001b[0m\u001b[0;34m(\u001b[0m\u001b[0;36m1\u001b[0m\u001b[0;34m)\u001b[0m\u001b[0;34m)\u001b[0m\u001b[0;34m\u001b[0m\u001b[0;34m\u001b[0m\u001b[0m\n\u001b[1;32m     10\u001b[0m     \u001b[0mphi\u001b[0m \u001b[0;34m=\u001b[0m \u001b[0msum\u001b[0m\u001b[0;34m(\u001b[0m\u001b[0mnp\u001b[0m\u001b[0;34m.\u001b[0m\u001b[0mdot\u001b[0m\u001b[0;34m(\u001b[0m\u001b[0mf\u001b[0m\u001b[0;34m,\u001b[0m\u001b[0mX\u001b[0m\u001b[0;34m)\u001b[0m\u001b[0;34m)\u001b[0m\u001b[0;34m\u001b[0m\u001b[0;34m\u001b[0m\u001b[0m\n\u001b[0;32m---> 11\u001b[0;31m     \u001b[0mres\u001b[0m \u001b[0;34m=\u001b[0m \u001b[0mnp\u001b[0m\u001b[0;34m.\u001b[0m\u001b[0mdot\u001b[0m\u001b[0;34m(\u001b[0m\u001b[0mf\u001b[0m\u001b[0;34m,\u001b[0m\u001b[0mX\u001b[0m\u001b[0;34m)\u001b[0m \u001b[0;34m+\u001b[0m \u001b[0mF\u001b[0m\u001b[0;34m-\u001b[0m \u001b[0mnp\u001b[0m\u001b[0;34m.\u001b[0m\u001b[0mdot\u001b[0m\u001b[0;34m(\u001b[0m\u001b[0mX\u001b[0m\u001b[0;34m,\u001b[0m\u001b[0mE\u001b[0m\u001b[0;34m)\u001b[0m \u001b[0;34m-\u001b[0m \u001b[0mphi\u001b[0m\u001b[0;34m*\u001b[0m\u001b[0mD\u001b[0m\u001b[0;34m\u001b[0m\u001b[0;34m\u001b[0m\u001b[0m\n\u001b[0m\u001b[1;32m     12\u001b[0m     \u001b[0;32mreturn\u001b[0m \u001b[0mres\u001b[0m\u001b[0;34m\u001b[0m\u001b[0;34m\u001b[0m\u001b[0m\n",
      "\u001b[0;32m~/.sage/local/lib/python3.10/site-packages/numpy/core/overrides.py\u001b[0m in \u001b[0;36mdot\u001b[0;34m(*args, **kwargs)\u001b[0m\n",
      "\u001b[0;31mValueError\u001b[0m: shapes (4,) and (5,) not aligned: 4 (dim 0) != 5 (dim 0)"
     ]
    }
   ],
   "source": [
    "sel_model(0,inits,[f_i,np.ones((5,5))*0.1])"
   ]
  },
  {
   "cell_type": "markdown",
   "metadata": {},
   "source": [
    "### Epigrass: Modelos metapopulacionais geo-referenciados\n",
    "Para criar e simular modelos metapopulacionais mais complexos a biblioteca [Epigrass](https://github.com/fccoelho/epigrass) pode ajudar.\n",
    "\n",
    "<iframe width=\"560\" height=\"315\" src=\"https://www.youtube.com/embed/videoseries?list=PLaBTcLw49xPjc0bnkpvNEG-_etYpWv7aC\" title=\"YouTube video player\" frameborder=\"0\" allow=\"accelerometer; autoplay; clipboard-write; encrypted-media; gyroscope; picture-in-picture\" allowfullscreen></iframe>\n"
   ]
  },
  {
   "cell_type": "code",
   "execution_count": null,
   "metadata": {},
   "outputs": [],
   "source": []
  }
 ],
 "metadata": {
  "kernelspec": {
   "display_name": "SageMath 9.5",
   "language": "sage",
   "name": "sagemath"
  },
  "language_info": {
   "codemirror_mode": {
    "name": "ipython",
    "version": 3
   },
   "file_extension": ".py",
   "mimetype": "text/x-python",
   "name": "python",
   "nbconvert_exporter": "python",
   "pygments_lexer": "ipython3",
   "version": "3.10.6"
  },
  "latex_envs": {
   "LaTeX_envs_menu_present": true,
   "autoclose": false,
   "autocomplete": true,
   "bibliofile": "biblio.bib",
   "cite_by": "apalike",
   "current_citInitial": 1,
   "eqLabelWithNumbers": true,
   "eqNumInitial": 1,
   "hotkeys": {
    "equation": "Ctrl-E",
    "itemize": "Ctrl-I"
   },
   "labels_anchors": false,
   "latex_user_defs": false,
   "report_style_numbering": false,
   "user_envs_cfg": false
  },
  "toc": {
   "base_numbering": 1,
   "nav_menu": {},
   "number_sections": true,
   "sideBar": true,
   "skip_h1_title": false,
   "title_cell": "Table of Contents",
   "title_sidebar": "Contents",
   "toc_cell": false,
   "toc_position": {},
   "toc_section_display": true,
   "toc_window_display": false
  }
 },
 "nbformat": 4,
 "nbformat_minor": 2
}

{
  "cells": [
    {
      "cell_type": "code",
      "execution_count": null,
      "metadata": {
        "id": "YatxETUl_zKp"
      },
      "outputs": [],
      "source": [
        "from sympy.abc import A, D, K, M, T, x, y, r\n",
        "import numpy as np"
      ]
    },
    {
      "cell_type": "code",
      "execution_count": null,
      "metadata": {
        "id": "SCE7wi5s_9so"
      },
      "outputs": [],
      "source": [
        "def f(x=x): return (r*x*(1-(x/K)) - A*((x*y)/(D+x)))"
      ]
    },
    {
      "cell_type": "code",
      "execution_count": null,
      "metadata": {
        "colab": {
          "base_uri": "https://localhost:8080/",
          "height": 53
        },
        "id": "2l47Mt6dAQTR",
        "outputId": "31460060-9d57-4e91-83aa-76a4f5101664"
      },
      "outputs": [
        {
          "data": {
            "text/latex": [
              "$\\displaystyle - \\frac{A x y}{D + x} + r x \\left(1 - \\frac{x}{K}\\right)$"
            ],
            "text/plain": [
              "-A*x*y/(D + x) + r*x*(1 - x/K)"
            ]
          },
          "execution_count": 3,
          "metadata": {},
          "output_type": "execute_result"
        }
      ],
      "source": [
        "f()"
      ]
    },
    {
      "cell_type": "code",
      "execution_count": null,
      "metadata": {
        "colab": {
          "base_uri": "https://localhost:8080/",
          "height": 52
        },
        "id": "Y4LCRd_sAU8B",
        "outputId": "4cd8c8f7-7fa8-4d31-a3cb-63a0be289000"
      },
      "outputs": [
        {
          "data": {
            "text/latex": [
              "$\\displaystyle - \\frac{A M}{2}$"
            ],
            "text/plain": [
              "-A*M/2"
            ]
          },
          "execution_count": 4,
          "metadata": {},
          "output_type": "execute_result"
        }
      ],
      "source": [
        "fd = f().subs([(x,M), (K,M), (D, M), (y, M), (r, 1/T)])\n",
        "fd"
      ]
    },
    {
      "cell_type": "code",
      "execution_count": null,
      "metadata": {
        "colab": {
          "base_uri": "https://localhost:8080/"
        },
        "id": "6mchg0X1Anez",
        "outputId": "4c4ade2b-6bf9-4f6c-b40c-e33424a14e5e"
      },
      "outputs": [
        {
          "data": {
            "text/plain": [
              "[-2/T]"
            ]
          },
          "execution_count": 5,
          "metadata": {},
          "output_type": "execute_result"
        }
      ],
      "source": [
        "from sympy import solve\n",
        "\n",
        "solve(fd - (M/T), A)"
      ]
    },
    {
      "cell_type": "code",
      "execution_count": null,
      "metadata": {
        "colab": {
          "base_uri": "https://localhost:8080/"
        },
        "id": "ooGbBvNRBF0y",
        "outputId": "be291b25-b663-47f6-d180-3cbaced16cb8"
      },
      "outputs": [
        {
          "data": {
            "text/plain": [
              "[(-M + T)/(M*T)]"
            ]
          },
          "execution_count": 6,
          "metadata": {},
          "output_type": "execute_result"
        }
      ],
      "source": [
        "solve(r*M - (1-(M/T)), r)"
      ]
    },
    {
      "cell_type": "code",
      "execution_count": null,
      "metadata": {
        "id": "Z349aY3iBoGj"
      },
      "outputs": [],
      "source": [
        "from sympy.abc import N, K, r, t\n",
        "\n",
        "def dN_dt(t=t): return (r*N*(1-(N/K)))"
      ]
    },
    {
      "cell_type": "code",
      "execution_count": null,
      "metadata": {
        "colab": {
          "base_uri": "https://localhost:8080/",
          "height": 58
        },
        "id": "r86JQyoABxPy",
        "outputId": "5b397943-2d29-4640-93c9-acb1a6eac89f"
      },
      "outputs": [
        {
          "data": {
            "text/latex": [
              "$\\displaystyle N r \\left(1 - \\frac{N}{K}\\right)$"
            ],
            "text/plain": [
              "N*r*(1 - N/K)"
            ]
          },
          "execution_count": 8,
          "metadata": {},
          "output_type": "execute_result"
        }
      ],
      "source": [
        "dN_dt()"
      ]
    },
    {
      "cell_type": "code",
      "execution_count": null,
      "metadata": {
        "colab": {
          "base_uri": "https://localhost:8080/",
          "height": 56
        },
        "id": "1eqojpVaCe1z",
        "outputId": "347e5cfe-d01e-4c1d-e9a9-64ea958dfb8e"
      },
      "outputs": [
        {
          "data": {
            "text/latex": [
              "$\\displaystyle \\frac{N r \\left(1 - \\frac{N}{K}\\right)}{K}$"
            ],
            "text/plain": [
              "N*r*(1 - N/K)/K"
            ]
          },
          "execution_count": 9,
          "metadata": {},
          "output_type": "execute_result"
        }
      ],
      "source": [
        "dN_dt() / K"
      ]
    },
    {
      "cell_type": "code",
      "execution_count": null,
      "metadata": {
        "id": "DmoCflG6Ct3y"
      },
      "outputs": [],
      "source": [
        "from sympy.abc import t\n",
        "from sympy import Function\n",
        "\n",
        "N = Function('N')(t)\n",
        "\n",
        "def y(t=t): return N.subs(t, t)/K"
      ]
    },
    {
      "cell_type": "code",
      "execution_count": null,
      "metadata": {
        "colab": {
          "base_uri": "https://localhost:8080/",
          "height": 53
        },
        "id": "ujUVdC5UDgtz",
        "outputId": "7bbb6ba5-185f-4ce4-f1e4-5d3aa8684c89"
      },
      "outputs": [
        {
          "data": {
            "text/latex": [
              "$\\displaystyle \\frac{N{\\left(t \\right)}}{K}$"
            ],
            "text/plain": [
              "N(t)/K"
            ]
          },
          "execution_count": 11,
          "metadata": {},
          "output_type": "execute_result"
        }
      ],
      "source": [
        "y()"
      ]
    },
    {
      "cell_type": "code",
      "execution_count": null,
      "metadata": {
        "colab": {
          "base_uri": "https://localhost:8080/",
          "height": 66
        },
        "id": "r1VXHzIDD9rV",
        "outputId": "5cac7655-4362-40aa-fae2-9591b92b1eab"
      },
      "outputs": [
        {
          "data": {
            "text/latex": [
              "$\\displaystyle \\frac{r \\left(1 - \\frac{N{\\left(t \\right)}}{K}\\right) N{\\left(t \\right)}}{K}$"
            ],
            "text/plain": [
              "r*(1 - N(t)/K)*N(t)/K"
            ]
          },
          "execution_count": 12,
          "metadata": {},
          "output_type": "execute_result"
        }
      ],
      "source": [
        "dy_dt = r*y()*(1-y())\n",
        "dy_dt"
      ]
    },
    {
      "cell_type": "code",
      "execution_count": null,
      "metadata": {
        "colab": {
          "base_uri": "https://localhost:8080/",
          "height": 53
        },
        "id": "hgH52hKdGCHH",
        "outputId": "ed156f95-f084-45c3-9205-037e4c124568"
      },
      "outputs": [
        {
          "data": {
            "application/vnd.google.colaboratory.intrinsic+json": {
              "type": "string"
            },
            "text/plain": [
              "'\\nda_dt = a.diff(t)\\nexpr_a = Eq(da_dt, -2*phi*a**2 + 2*c)\\n\\ndc_dt = c.diff(t)\\nexpr_c = Eq(dc_dt, phi*a**2 - c)\\n\\nexpr_a\\n'"
            ]
          },
          "execution_count": 32,
          "metadata": {},
          "output_type": "execute_result"
        }
      ],
      "source": [
        "from sympy import symbols, Symbol, Function, Eq\n",
        "\n",
        "t = Symbol('t')\n",
        "phi = symbols('phi')\n",
        "a = Function('a')\n",
        "c = Function('c')\n",
        "\n",
        "'''\n",
        "da_dt = a.diff(t)\n",
        "expr_a = Eq(da_dt, -2*phi*a**2 + 2*c)\n",
        "\n",
        "dc_dt = c.diff(t)\n",
        "expr_c = Eq(dc_dt, phi*a**2 - c)\n",
        "\n",
        "expr_a\n",
        "'''"
      ]
    },
    {
      "cell_type": "code",
      "execution_count": null,
      "metadata": {
        "colab": {
          "base_uri": "https://localhost:8080/",
          "height": 52
        },
        "id": "GhTNpBtVIJdJ",
        "outputId": "5eff90d6-eb94-4861-92d5-9bf3c636330e"
      },
      "outputs": [
        {
          "data": {
            "text/latex": [
              "$\\displaystyle \\frac{d}{d t} c{\\left(t \\right)} = \\phi a^{2}{\\left(t \\right)} - c{\\left(t \\right)}$"
            ],
            "text/plain": [
              "Eq(Derivative(c(t), t), phi*a(t)**2 - c(t))"
            ]
          },
          "execution_count": 33,
          "metadata": {},
          "output_type": "execute_result"
        }
      ],
      "source": [
        "expr_c"
      ]
    },
    {
      "cell_type": "markdown",
      "metadata": {
        "id": "jiN91d-xK9Xr"
      },
      "source": [
        "$$ \\frac{d}{dt}x(t) + x(t) = cos(t) $$"
      ]
    },
    {
      "cell_type": "code",
      "execution_count": null,
      "metadata": {
        "id": "hIXG1u7NIsXK"
      },
      "outputs": [],
      "source": [
        "from sympy import dsolve, diff, Function\n",
        "\n",
        "c = Function('c')\n",
        "a = Function('a')\n",
        "\n",
        "da_dt = Eq(a(t).diff(t), -2*phi*a(t)**2 + 2*c(t))\n",
        "res_a = dsolve(da_dt, ics={\n",
        "    a(0): 1,\n",
        "})\n",
        "\n",
        "dc_dt = Eq(c(t).diff(t), phi*a(t)**2 - c(t))\n",
        "res_c = dsolve(dc_dt, ics={\n",
        "    c(0): 0,\n",
        "})"
      ]
    },
    {
      "cell_type": "code",
      "execution_count": null,
      "metadata": {
        "colab": {
          "base_uri": "https://localhost:8080/",
          "height": 52
        },
        "id": "NLRvCx4VMzoH",
        "outputId": "41d2138a-7b04-439e-ad51-60b9900f0122"
      },
      "outputs": [
        {
          "data": {
            "text/latex": [
              "$\\displaystyle \\frac{d}{d t} a{\\left(t \\right)} = - 2 \\phi a^{2}{\\left(t \\right)} + 2 c{\\left(t \\right)}$"
            ],
            "text/plain": [
              "Eq(Derivative(a(t), t), -2*phi*a(t)**2 + 2*c(t))"
            ]
          },
          "execution_count": 63,
          "metadata": {},
          "output_type": "execute_result"
        }
      ],
      "source": [
        "da_dt"
      ]
    },
    {
      "cell_type": "code",
      "execution_count": null,
      "metadata": {
        "id": "yW5E7uneOlXw"
      },
      "outputs": [],
      "source": [
        "res_a"
      ]
    },
    {
      "cell_type": "code",
      "execution_count": null,
      "metadata": {
        "colab": {
          "base_uri": "https://localhost:8080/",
          "height": 52
        },
        "id": "GGjhuzJHLZHb",
        "outputId": "6802dfa9-9f47-41c8-8a1a-f295429bfb4b"
      },
      "outputs": [
        {
          "data": {
            "text/latex": [
              "$\\displaystyle \\frac{d}{d t} c{\\left(t \\right)} = \\phi a^{2}{\\left(t \\right)} - c{\\left(t \\right)}$"
            ],
            "text/plain": [
              "Eq(Derivative(c(t), t), phi*a(t)**2 - c(t))"
            ]
          },
          "execution_count": 67,
          "metadata": {},
          "output_type": "execute_result"
        }
      ],
      "source": [
        "dc_dt"
      ]
    },
    {
      "cell_type": "code",
      "execution_count": null,
      "metadata": {
        "id": "ikUO3E30OmKv"
      },
      "outputs": [],
      "source": [
        "res_c"
      ]
    },
    {
      "cell_type": "code",
      "execution_count": null,
      "metadata": {
        "id": "5bODxhTPOn_P"
      },
      "outputs": [],
      "source": [
        "from scipy.integrate import odeint"
      ]
    },
    {
      "cell_type": "code",
      "execution_count": null,
      "metadata": {
        "id": "2-F1iU4KOrjf"
      },
      "outputs": [],
      "source": [
        "def func(y, t, phi):\n",
        "    a, c = y\n",
        "    dydt = [-2*phi*a**2+2*c, phi*a**2-c]\n",
        "    return dydt"
      ]
    },
    {
      "cell_type": "code",
      "execution_count": null,
      "metadata": {
        "id": "8hRJvAqGPH3P"
      },
      "outputs": [],
      "source": [
        "t = np.linspace(0, 10, 100)\n",
        "y0 = [1, 0]\n",
        "phi = 1.8\n",
        "sol = odeint(func, y0, t, args=(phi,))"
      ]
    },
    {
      "cell_type": "code",
      "execution_count": null,
      "metadata": {
        "colab": {
          "base_uri": "https://localhost:8080/",
          "height": 282
        },
        "id": "T05S-hkVPdag",
        "outputId": "ee846883-296c-4076-9946-47a2ba94a729"
      },
      "outputs": [
        {
          "data": {
            "text/plain": [
              "(0.0, 10.0)"
            ]
          },
          "execution_count": 122,
          "metadata": {},
          "output_type": "execute_result"
        },
        {
          "data": {
            "image/png": "[encoded data removed]",
            "text/plain": [
              "<Figure size 432x288 with 1 Axes>"
            ]
          },
          "metadata": {
            "needs_background": "light"
          },
          "output_type": "display_data"
        }
      ],
      "source": [
        "import matplotlib.pyplot as plt\n",
        "\n",
        "\n",
        "c__a = [(pt[1]/(pt[0]**2)) for pt in sol]\n",
        "a, c = zip(*sol)\n",
        "plt.plot(t, c, label='c', color='blue')\n",
        "plt.plot(t, a, label='a', color='red')\n",
        "#plt.plot(t, sol, label=('A', 'B'))\n",
        "plt.plot(t, c__a, label='c/a', color='green')\n",
        "plt.legend()\n",
        "plt.xlim([0,10])"
      ]
    },
    {
      "cell_type": "code",
      "execution_count": null,
      "metadata": {
        "colab": {
          "base_uri": "https://localhost:8080/"
        },
        "id": "I0BWqCXHP5vh",
        "outputId": "0efb79c1-999a-4f24-ec95-33bdfa23058e"
      },
      "outputs": [
        {
          "data": {
            "text/plain": [
              "1.800000000555805"
            ]
          },
          "execution_count": 121,
          "metadata": {},
          "output_type": "execute_result"
        }
      ],
      "source": [
        "(c[-1]/a[-1]**2)"
      ]
    },
    {
      "cell_type": "code",
      "execution_count": null,
      "metadata": {
        "id": "UeYyj9IDUXkH"
      },
      "outputs": [],
      "source": []
    }
  ],
  "metadata": {
    "colab": {
      "collapsed_sections": [],
      "provenance": []
    },
    "kernelspec": {
      "display_name": "Python 3.10.6 64-bit (microsoft store)",
      "language": "python",
      "name": "python3"
    },
    "language_info": {
      "name": "python",
      "version": "3.10.6"
    },
    "vscode": {
      "interpreter": {
        "hash": "d0f5b17bf2e0ae15bbaa4312450a0fd6c02ab3a236801ce07cd1404e18b674c4"
      }
    }
  },
  "nbformat": 4,
  "nbformat_minor": 0
}

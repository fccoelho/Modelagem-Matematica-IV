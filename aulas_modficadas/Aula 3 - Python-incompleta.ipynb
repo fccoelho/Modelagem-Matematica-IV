{
 "cells": [
  {
   "cell_type": "markdown",
   "metadata": {},
   "source": [
    "### Autovalores"
   ]
  },
  {
   "cell_type": "code",
   "execution_count": 86,
   "metadata": {},
   "outputs": [],
   "source": [
    "import numpy as np\n",
    "import scipy"
   ]
  },
  {
   "cell_type": "code",
   "execution_count": 87,
   "metadata": {},
   "outputs": [
    {
     "data": {
      "text/latex": [
       "$\\displaystyle \\left[\\begin{matrix}A & B\\\\C & B\\end{matrix}\\right]$"
      ],
      "text/plain": [
       "Matrix([\n",
       "[A, B],\n",
       "[C, B]])"
      ]
     },
     "execution_count": 87,
     "metadata": {},
     "output_type": "execute_result"
    }
   ],
   "source": [
    "from sympy.abc import A, B, C, D, x, y\n",
    "from sympy import Matrix\n",
    "\n",
    "matrix = Matrix([A*x + B*y, C*x+B*y])\n",
    "J = matrix.jacobian([x,y])\n",
    "J"
   ]
  },
  {
   "cell_type": "code",
   "execution_count": 88,
   "metadata": {},
   "outputs": [
    {
     "data": {
      "text/latex": [
       "$\\displaystyle A + B$"
      ],
      "text/plain": [
       "A + B"
      ]
     },
     "execution_count": 88,
     "metadata": {},
     "output_type": "execute_result"
    }
   ],
   "source": [
    "from sympy import MatrixSymbol, Trace\n",
    "\n",
    "Trace(J).simplify()"
   ]
  },
  {
   "cell_type": "code",
   "execution_count": 89,
   "metadata": {},
   "outputs": [
    {
     "data": {
      "text/latex": [
       "$\\displaystyle A B - B C$"
      ],
      "text/plain": [
       "A*B - B*C"
      ]
     },
     "execution_count": 89,
     "metadata": {},
     "output_type": "execute_result"
    }
   ],
   "source": [
    "J.det()"
   ]
  },
  {
   "cell_type": "code",
   "execution_count": 90,
   "metadata": {},
   "outputs": [
    {
     "data": {
      "text/latex": [
       "$\\displaystyle \\operatorname{PurePoly}{\\left( \\lambda^{2} + \\left(- A - B\\right) \\lambda + A B - B C, \\lambda, domain=\\mathbb{Z}\\left[A, B, C\\right] \\right)}$"
      ],
      "text/plain": [
       "PurePoly(lambda**2 + (-A - B)*lambda + A*B - B*C, lambda, domain='ZZ[A,B,C]')"
      ]
     },
     "execution_count": 90,
     "metadata": {},
     "output_type": "execute_result"
    }
   ],
   "source": [
    "from sympy import sympify\n",
    "\n",
    "J.charpoly()"
   ]
  },
  {
   "cell_type": "markdown",
   "metadata": {},
   "source": [
    "EDO Cúbica Unidimensional"
   ]
  },
  {
   "cell_type": "markdown",
   "metadata": {},
   "source": [
    "$ \\dfrac{dx}{dt} = rx - x^3 $"
   ]
  },
  {
   "cell_type": "code",
   "execution_count": 91,
   "metadata": {},
   "outputs": [
    {
     "data": {
      "text/plain": [
       "[0, -sqrt(2), sqrt(2)]"
      ]
     },
     "execution_count": 91,
     "metadata": {},
     "output_type": "execute_result"
    }
   ],
   "source": [
    "# Modelando a equação em Sympy\n",
    "from sympy.abc import r, x\n",
    "from sympy.solvers import solve\n",
    "from sympy import sympify\n",
    "\n",
    "# Alterando o valor de r obtemos a solução\n",
    "r = 2\n",
    "eq = r*x - x**3\n",
    "solve(eq)"
   ]
  },
  {
   "cell_type": "code",
   "execution_count": 92,
   "metadata": {},
   "outputs": [
    {
     "data": {
      "image/png": "[encoded data removed]",
      "text/plain": [
       "<Figure size 432x288 with 1 Axes>"
      ]
     },
     "metadata": {
      "needs_background": "light"
     },
     "output_type": "display_data"
    }
   ],
   "source": [
    "from scipy.integrate import odeint\n",
    "import matplotlib.pyplot as plt\n",
    "\n",
    "r = 2 # Valor arbitrário\n",
    "\n",
    "# Define a função \n",
    "def model(x, t):\n",
    "    dxdt = r*x - x**3\n",
    "    return dxdt\n",
    "\n",
    "t = np.linspace(-2, 2, 100)\n",
    "x = r*t - t**3\n",
    "plt.plot(t, x)\n",
    "plt.xlabel(\"$t$\")\n",
    "plt.ylabel(\"$x(t)$\")\n",
    "plt.show()"
   ]
  },
  {
   "cell_type": "code",
   "execution_count": 93,
   "metadata": {},
   "outputs": [
    {
     "data": {
      "image/png": "[encoded data removed]",
      "text/plain": [
       "<Figure size 432x288 with 1 Axes>"
      ]
     },
     "metadata": {
      "needs_background": "light"
     },
     "output_type": "display_data"
    }
   ],
   "source": [
    "# No caso do r = 0\n",
    "def x(t, r=0):\n",
    "    return r*t - t**3\n",
    "\n",
    "plt.plot(t, x(t))\n",
    "plt.xlabel(\"$t$\")\n",
    "plt.ylabel(\"$x(t)$\")\n",
    "plt.show()"
   ]
  },
  {
   "cell_type": "code",
   "execution_count": 94,
   "metadata": {},
   "outputs": [
    {
     "data": {
      "text/plain": [
       "[<matplotlib.lines.Line2D at 0x151dd6c8f40>]"
      ]
     },
     "execution_count": 94,
     "metadata": {},
     "output_type": "execute_result"
    },
    {
     "data": {
      "image/png": "[encoded data removed]",
      "text/plain": [
       "<Figure size 432x288 with 1 Axes>"
      ]
     },
     "metadata": {
      "needs_background": "light"
     },
     "output_type": "display_data"
    }
   ],
   "source": [
    "t = np.linspace(0, 2, 100) \n",
    "x = odeint(model, 0, t)\n",
    "plt.plot(t, x)"
   ]
  },
  {
   "cell_type": "code",
   "execution_count": 95,
   "metadata": {},
   "outputs": [],
   "source": [
    "def SolveRK4(f, ics, end_points):\n",
    "    from scipy.integrate import RK45\n",
    "    from math import e\n",
    "\n",
    "    t0, y0 = ics\n",
    "    solution = RK45(f, t0, [y0], t_bound=np.inf)\n",
    "    t_values = []\n",
    "    y_values = []\n",
    "    for i in range(end_points):\n",
    "        solution.step()\n",
    "        t_values.append(solution.t)\n",
    "        y_values.append(solution.y[0])\n",
    "        if solution.status == 'finished':\n",
    "            break\n",
    "\n",
    "    plt.plot(y_values)\n",
    "    plt.xlim([0, end_points])"
   ]
  },
  {
   "cell_type": "code",
   "execution_count": 96,
   "metadata": {},
   "outputs": [
    {
     "name": "stderr",
     "output_type": "stream",
     "text": [
      "C:\\Users\\ROMILDO\\AppData\\Local\\Temp\\ipykernel_32860\\3893461526.py:2: RuntimeWarning: overflow encountered in power\n",
      "  return -x**3\n",
      "C:\\Users\\ROMILDO\\AppData\\Local\\Packages\\PythonSoftwareFoundation.Python.3.10_qbz5n2kfra8p0\\LocalCache\\local-packages\\Python310\\site-packages\\scipy\\integrate\\_ivp\\rk.py:109: RuntimeWarning: invalid value encountered in divide\n",
      "  return norm(self._estimate_error(K, h) / scale)\n",
      "C:\\Users\\ROMILDO\\AppData\\Local\\Packages\\PythonSoftwareFoundation.Python.3.10_qbz5n2kfra8p0\\LocalCache\\local-packages\\Python310\\site-packages\\scipy\\integrate\\_ivp\\rk.py:106: RuntimeWarning: overflow encountered in multiply\n",
      "  return np.dot(K.T, self.E) * h\n",
      "C:\\Users\\ROMILDO\\AppData\\Local\\Packages\\PythonSoftwareFoundation.Python.3.10_qbz5n2kfra8p0\\LocalCache\\local-packages\\Python310\\site-packages\\scipy\\integrate\\_ivp\\rk.py:63: RuntimeWarning: overflow encountered in multiply\n",
      "  dy = np.dot(K[:s].T, a[:s]) * h\n"
     ]
    },
    {
     "data": {
      "image/png": "[encoded data removed]",
      "text/plain": [
       "<Figure size 432x288 with 1 Axes>"
      ]
     },
     "metadata": {
      "needs_background": "light"
     },
     "output_type": "display_data"
    }
   ],
   "source": [
    "def f(t,x):\n",
    "    return -x**3\n",
    "\n",
    "SolveRK4(f, [0, .2], 500)"
   ]
  },
  {
   "cell_type": "markdown",
   "metadata": {},
   "source": [
    "### Bifurcações\n"
   ]
  },
  {
   "cell_type": "markdown",
   "metadata": {},
   "source": [
    "$$\\frac{dx}{dt}= c \\left( x-\\frac{x^3}{3}+A \\right) \\equiv f(x)$$"
   ]
  },
  {
   "cell_type": "code",
   "execution_count": 97,
   "metadata": {},
   "outputs": [
    {
     "data": {
      "text/plain": [
       "[<matplotlib.lines.Line2D at 0x151dd7ac400>]"
      ]
     },
     "execution_count": 97,
     "metadata": {},
     "output_type": "execute_result"
    },
    {
     "data": {
      "image/png": "[encoded data removed]",
      "text/plain": [
       "<Figure size 432x288 with 1 Axes>"
      ]
     },
     "metadata": {
      "needs_background": "light"
     },
     "output_type": "display_data"
    }
   ],
   "source": [
    "from sympy.abc import A\n",
    "\n",
    "A = -1\n",
    "x = np.linspace(-2, 2, 100)\n",
    "f = lambda x, A: x - ((x**3)/3) + A\n",
    "\n",
    "plt.plot(x, f(x, A))"
   ]
  },
  {
   "cell_type": "code",
   "execution_count": 98,
   "metadata": {},
   "outputs": [
    {
     "data": {
      "text/plain": [
       "Text(0, 0.5, 'x')"
      ]
     },
     "execution_count": 98,
     "metadata": {},
     "output_type": "execute_result"
    },
    {
     "data": {
      "image/png": "[encoded data removed]",
      "text/plain": [
       "<Figure size 432x288 with 1 Axes>"
      ]
     },
     "metadata": {
      "needs_background": "light"
     },
     "output_type": "display_data"
    }
   ],
   "source": [
    "from sympy.abc import X\n",
    "from sympy import re\n",
    "from collections import defaultdict\n",
    "\n",
    "pts = defaultdict(list)\n",
    "axis = np.linspace(-2, 2, 60)\n",
    "for v in axis:\n",
    "    g = f(x, v)\n",
    "    xvals = solve(X - ((X**3)/3) + v)\n",
    "    for i in range(len(xvals)): pts[i].append(re(xvals[i]))\n",
    "for i in range(len(xvals)): plt.scatter(axis, pts[i], color='blue', s=2)\n",
    "\n",
    "plt.xlabel(\"$A$\")\n",
    "plt.ylabel(\"x\")"
   ]
  },
  {
   "cell_type": "code",
   "execution_count": 99,
   "metadata": {},
   "outputs": [
    {
     "data": {
      "text/plain": [
       "[2.01102985685326,\n",
       " -1.00551492842663 - 0.182156015180445*I,\n",
       " -1.00551492842663 + 0.182156015180445*I]"
      ]
     },
     "execution_count": 99,
     "metadata": {},
     "output_type": "execute_result"
    }
   ],
   "source": [
    "sols = solve(X - ((X**3)/3) + 0.7)\n",
    "sols"
   ]
  },
  {
   "cell_type": "markdown",
   "metadata": {},
   "source": [
    "### Bi-Estabilidade e Histerese"
   ]
  },
  {
   "cell_type": "markdown",
   "metadata": {},
   "source": [
    "$$\\frac{dx}{dt}=f(x)=r+x^2$$"
   ]
  },
  {
   "cell_type": "code",
   "execution_count": 100,
   "metadata": {},
   "outputs": [
    {
     "name": "stdout",
     "output_type": "stream",
     "text": [
      "x**2 + 2\t<class 'sympy.core.add.Add'>\n"
     ]
    }
   ],
   "source": [
    "from sympy.abc import x\n",
    "\n",
    "f = x**2 + 2\n",
    "print(f\"{f}\\t{type(f)}\")"
   ]
  },
  {
   "cell_type": "code",
   "execution_count": 101,
   "metadata": {},
   "outputs": [
    {
     "name": "stdout",
     "output_type": "stream",
     "text": [
      "\n"
     ]
    },
    {
     "data": {
      "image/png": "[encoded data removed]",
      "text/plain": [
       "<Figure size 432x288 with 1 Axes>"
      ]
     },
     "metadata": {
      "needs_background": "light"
     },
     "output_type": "display_data"
    }
   ],
   "source": [
    "from sympy.abc import r, x\n",
    "from sympy import re\n",
    "from collections import defaultdict\n",
    "\n",
    "def drawbif(func, l, u):\n",
    "    axis = np.linspace(l, u, 100)\n",
    "    print()\n",
    "    pts = defaultdict(list)\n",
    "    epts = []\n",
    "    for v in axis:\n",
    "        g = func.subs(r, v)\n",
    "        xvals = solve(g, x)\n",
    "        for i in range(len(xvals)): pts[i].append(re(xvals[i]))\n",
    "    \n",
    "    for i in range(len(xvals)): plt.scatter(axis, pts[i], color='blue', marker='o', s=2)\n",
    "\n",
    "    plt.xlabel(\"$r$\")\n",
    "    plt.ylabel(\"$x$\")\n",
    "\n",
    "drawbif(r*x + x**2, -2, 2)\n",
    "    "
   ]
  },
  {
   "cell_type": "markdown",
   "metadata": {},
   "source": [
    "### Bifurcação transcrítica\n"
   ]
  },
  {
   "cell_type": "code",
   "execution_count": 102,
   "metadata": {},
   "outputs": [
    {
     "data": {
      "text/plain": [
       "[<matplotlib.lines.Line2D at 0x151de60d2a0>]"
      ]
     },
     "execution_count": 102,
     "metadata": {},
     "output_type": "execute_result"
    },
    {
     "data": {
      "image/png": "[encoded data removed]",
      "text/plain": [
       "<Figure size 432x288 with 1 Axes>"
      ]
     },
     "metadata": {
      "needs_background": "light"
     },
     "output_type": "display_data"
    }
   ],
   "source": [
    "def f(x, r=0):\n",
    "    return r*x - x**2\n",
    "\n",
    "x = np.linspace(-2, 2, 100)\n",
    "plt.plot(x, f(x, r=-1), color='red', label='r=-1')\n",
    "plt.plot(x, f(x, r=0), color='green', label='r=0')\n",
    "plt.plot(x, f(x, r=1), color='blue', label='r=1')"
   ]
  },
  {
   "cell_type": "code",
   "execution_count": 103,
   "metadata": {},
   "outputs": [
    {
     "name": "stdout",
     "output_type": "stream",
     "text": [
      "\n"
     ]
    },
    {
     "data": {
      "image/png": "[encoded data removed]",
      "text/plain": [
       "<Figure size 432x288 with 1 Axes>"
      ]
     },
     "metadata": {
      "needs_background": "light"
     },
     "output_type": "display_data"
    }
   ],
   "source": [
    "from sympy.abc import x, r\n",
    "\n",
    "drawbif(r*x - x**3, -2, 2)"
   ]
  },
  {
   "cell_type": "code",
   "execution_count": 104,
   "metadata": {},
   "outputs": [
    {
     "name": "stdout",
     "output_type": "stream",
     "text": [
      "\n"
     ]
    },
    {
     "data": {
      "image/png": "[encoded data removed]",
      "text/plain": [
       "<Figure size 432x288 with 1 Axes>"
      ]
     },
     "metadata": {
      "needs_background": "light"
     },
     "output_type": "display_data"
    }
   ],
   "source": [
    "from sympy.abc import x, r\n",
    "\n",
    "drawbif(r*x + x**3, -2, 2)"
   ]
  },
  {
   "cell_type": "markdown",
   "metadata": {},
   "source": [
    "### Bifurcação Pitchfork\n"
   ]
  },
  {
   "cell_type": "markdown",
   "metadata": {},
   "source": [
    "$$\\frac{dx}{dt}= r*x -x^3$$"
   ]
  },
  {
   "cell_type": "code",
   "execution_count": 105,
   "metadata": {},
   "outputs": [
    {
     "data": {
      "text/plain": [
       "[<matplotlib.lines.Line2D at 0x151ddd619f0>]"
      ]
     },
     "execution_count": 105,
     "metadata": {},
     "output_type": "execute_result"
    },
    {
     "data": {
      "image/png": "[encoded data removed]",
      "text/plain": [
       "<Figure size 432x288 with 1 Axes>"
      ]
     },
     "metadata": {
      "needs_background": "light"
     },
     "output_type": "display_data"
    }
   ],
   "source": [
    "def f(x, r=0):\n",
    "    return r*x - x**3\n",
    "\n",
    "x = np.linspace(-2, 2, 100)\n",
    "plt.plot(x, f(x, r=-5), color='red', label='r=-1')\n",
    "plt.plot(x, f(x, r=0), color='green', label='r=0')\n",
    "plt.plot(x, f(x, r=5), color='blue', label='r=1')"
   ]
  },
  {
   "cell_type": "markdown",
   "metadata": {},
   "source": [
    "### Bifurcação de Hopf\n",
    "\n",
    "$$\\frac{dx}{dt} = -x + ay + x^2 y, $$\n",
    "\n",
    "$$\\frac{dy}{dt} = b - a y - x^2 y$$"
   ]
  },
  {
   "cell_type": "code",
   "execution_count": 106,
   "metadata": {},
   "outputs": [],
   "source": [
    "from sympy.abc import a, b, x, y \n",
    "from sympy import Matrix\n",
    "\n",
    "# Mudar os valores de a, b aqui\n",
    "\n",
    "def dx_dt(a=a): return -x * a*y + (x**2)*y\n",
    "def dy_dt(b=b): return b - a*y - (x**2)*y"
   ]
  },
  {
   "cell_type": "code",
   "execution_count": 107,
   "metadata": {},
   "outputs": [
    {
     "data": {
      "text/latex": [
       "$\\displaystyle \\left[\\begin{matrix}- a x y + x^{2} y\\\\- a y + b - x^{2} y\\end{matrix}\\right]$"
      ],
      "text/plain": [
       "Matrix([\n",
       "[  -a*x*y + x**2*y],\n",
       "[-a*y + b - x**2*y]])"
      ]
     },
     "execution_count": 107,
     "metadata": {},
     "output_type": "execute_result"
    }
   ],
   "source": [
    "matrix = Matrix([dx_dt(), dy_dt()])\n",
    "matrix"
   ]
  },
  {
   "cell_type": "code",
   "execution_count": 108,
   "metadata": {},
   "outputs": [
    {
     "data": {
      "text/latex": [
       "$\\displaystyle \\left[\\begin{matrix}- a y + 2 x y & - a x + x^{2}\\\\- 2 x y & - a - x^{2}\\end{matrix}\\right]$"
      ],
      "text/plain": [
       "Matrix([\n",
       "[-a*y + 2*x*y, -a*x + x**2],\n",
       "[      -2*x*y,   -a - x**2]])"
      ]
     },
     "execution_count": 108,
     "metadata": {},
     "output_type": "execute_result"
    }
   ],
   "source": [
    "J = matrix.jacobian([x, y])\n",
    "J"
   ]
  },
  {
   "cell_type": "code",
   "execution_count": null,
   "metadata": {},
   "outputs": [],
   "source": []
  },
  {
   "cell_type": "code",
   "execution_count": 109,
   "metadata": {},
   "outputs": [
    {
     "data": {
      "text/plain": [
       "{-a*y/2 - a/2 - x**2/2 + x*y - sqrt(a**2*y**2 - 2*a**2*y + a**2 + 6*a*x**2*y + 2*a*x**2 - 4*a*x*y**2 + 4*a*x*y + x**4 - 4*x**3*y + 4*x**2*y**2)/2: 1,\n",
       " -a*y/2 - a/2 - x**2/2 + x*y + sqrt(a**2*y**2 - 2*a**2*y + a**2 + 6*a*x**2*y + 2*a*x**2 - 4*a*x*y**2 + 4*a*x*y + x**4 - 4*x**3*y + 4*x**2*y**2)/2: 1}"
      ]
     },
     "execution_count": 109,
     "metadata": {},
     "output_type": "execute_result"
    }
   ],
   "source": [
    "J.eigenvals()"
   ]
  },
  {
   "cell_type": "markdown",
   "metadata": {},
   "source": [
    "Para encontrar o equilíbrio pontual do sistema, basta resolver o sistema:"
   ]
  },
  {
   "cell_type": "code",
   "execution_count": 110,
   "metadata": {},
   "outputs": [
    {
     "data": {
      "text/latex": [
       "$\\displaystyle - a y + b - x^{2} y$"
      ],
      "text/plain": [
       "-a*y + b - x**2*y"
      ]
     },
     "execution_count": 110,
     "metadata": {},
     "output_type": "execute_result"
    }
   ],
   "source": [
    "dy_dt()"
   ]
  },
  {
   "cell_type": "code",
   "execution_count": 113,
   "metadata": {},
   "outputs": [
    {
     "data": {
      "text/plain": [
       "[(0, b/a), (-(a + 1)*(a*b/(a**2 + a) - b)/b, b/(a**2 + a))]"
      ]
     },
     "execution_count": 113,
     "metadata": {},
     "output_type": "execute_result"
    }
   ],
   "source": [
    "from sympy import solve\n",
    "from sympy.abc import x, y\n",
    "\n",
    "solve((dx_dt(), dy_dt()), (x, y))"
   ]
  },
  {
   "cell_type": "markdown",
   "metadata": {},
   "source": [
    "Se nós substituirmos o valores de equilíbrio do sistema na matriz jacobiana:"
   ]
  },
  {
   "cell_type": "code",
   "execution_count": 114,
   "metadata": {},
   "outputs": [],
   "source": [
    "Jeq = Matrix([dx_dt().subs(x, b), dy_dt().subs(y, b/(b**2+a))])\n",
    "jacobian_Jeq = Jeq.jacobian([x, y])"
   ]
  },
  {
   "cell_type": "markdown",
   "metadata": {},
   "source": [
    "Podemos encontrar os autovalores do sistema:"
   ]
  },
  {
   "cell_type": "code",
   "execution_count": 115,
   "metadata": {},
   "outputs": [
    {
     "data": {
      "text/plain": [
       "{-1.4142135623731*b*sqrt(-x*(1.0*b - 0.1)/(1.0*b**2 + 0.1)): 1,\n",
       " 1.4142135623731*b*sqrt(-x*(1.0*b - 0.1)/(1.0*b**2 + 0.1)): 1}"
      ]
     },
     "execution_count": 115,
     "metadata": {},
     "output_type": "execute_result"
    }
   ],
   "source": [
    "evs = jacobian_Jeq.subs(a, 0.1).eigenvals()\n",
    "evs"
   ]
  },
  {
   "cell_type": "code",
   "execution_count": 140,
   "metadata": {},
   "outputs": [],
   "source": [
    "from sympy.abc import symbols\n",
    "\n",
    "b = symbols('b')\n",
    "\n",
    "def pol(b=b): return list(evs.items())[0][0].subs(b, b) - 1"
   ]
  },
  {
   "cell_type": "code",
   "execution_count": 141,
   "metadata": {},
   "outputs": [
    {
     "data": {
      "text/latex": [
       "$\\displaystyle - 1.4142135623731 b \\sqrt{- \\frac{x \\left(1.0 b - 0.1\\right)}{1.0 b^{2} + 0.1}} - 1$"
      ],
      "text/plain": [
       "-1.4142135623731*b*sqrt(-x*(1.0*b - 0.1)/(1.0*b**2 + 0.1)) - 1"
      ]
     },
     "execution_count": 141,
     "metadata": {},
     "output_type": "execute_result"
    }
   ],
   "source": [
    "from sympy import solve\n",
    "\n",
    "pol()"
   ]
  },
  {
   "cell_type": "code",
   "execution_count": null,
   "metadata": {},
   "outputs": [],
   "source": []
  }
 ],
 "metadata": {
  "kernelspec": {
   "display_name": "Python 3.10.6 64-bit (windows store)",
   "language": "python",
   "name": "python3"
  },
  "language_info": {
   "codemirror_mode": {
    "name": "ipython",
    "version": 3
   },
   "file_extension": ".py",
   "mimetype": "text/x-python",
   "name": "python",
   "nbconvert_exporter": "python",
   "pygments_lexer": "ipython3",
   "version": "3.10.6"
  },
  "orig_nbformat": 4,
  "vscode": {
   "interpreter": {
    "hash": "d0f5b17bf2e0ae15bbaa4312450a0fd6c02ab3a236801ce07cd1404e18b674c4"
   }
  }
 },
 "nbformat": 4,
 "nbformat_minor": 2
}
